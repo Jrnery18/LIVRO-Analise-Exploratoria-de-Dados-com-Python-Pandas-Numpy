{
  "nbformat": 4,
  "nbformat_minor": 0,
  "metadata": {
    "colab": {
      "name": "Pandas - Fernando Feltrin",
      "provenance": [],
      "collapsed_sections": []
    },
    "kernelspec": {
      "name": "python3",
      "display_name": "Python 3"
    }
  },
  "cells": [
    {
      "cell_type": "markdown",
      "metadata": {
        "id": "ArQq5LCZA6UR"
      },
      "source": [
        "# Instalação e Importação das Dependências"
      ]
    },
    {
      "cell_type": "markdown",
      "metadata": {
        "id": "uy_ppNZOBC2i"
      },
      "source": [
        "Instalação das Bibliotecas"
      ]
    },
    {
      "cell_type": "code",
      "metadata": {
        "id": "XNC1dBy2BF2i",
        "colab": {
          "base_uri": "https://localhost:8080/"
        },
        "outputId": "3c0de6c4-e47a-4d08-9c60-96f64a08b5aa"
      },
      "source": [
        "!pip install pandas\n",
        "!pip install numpy\n"
      ],
      "execution_count": null,
      "outputs": [
        {
          "output_type": "stream",
          "text": [
            "Requirement already satisfied: pandas in /usr/local/lib/python3.7/dist-packages (1.1.5)\n",
            "Requirement already satisfied: python-dateutil>=2.7.3 in /usr/local/lib/python3.7/dist-packages (from pandas) (2.8.1)\n",
            "Requirement already satisfied: pytz>=2017.2 in /usr/local/lib/python3.7/dist-packages (from pandas) (2018.9)\n",
            "Requirement already satisfied: numpy>=1.15.4 in /usr/local/lib/python3.7/dist-packages (from pandas) (1.19.5)\n",
            "Requirement already satisfied: six>=1.5 in /usr/local/lib/python3.7/dist-packages (from python-dateutil>=2.7.3->pandas) (1.15.0)\n",
            "Requirement already satisfied: numpy in /usr/local/lib/python3.7/dist-packages (1.19.5)\n"
          ],
          "name": "stdout"
        }
      ]
    },
    {
      "cell_type": "markdown",
      "metadata": {
        "id": "89fjzDS9Ap9C"
      },
      "source": [
        "Importação das bibliotecas"
      ]
    },
    {
      "cell_type": "code",
      "metadata": {
        "id": "l_s54Uxp_mvG"
      },
      "source": [
        "import pandas as pd\n",
        "import numpy as np\n"
      ],
      "execution_count": null,
      "outputs": []
    },
    {
      "cell_type": "markdown",
      "metadata": {
        "id": "oQFr_1QQBNRn"
      },
      "source": [
        "# Series"
      ]
    },
    {
      "cell_type": "markdown",
      "metadata": {
        "id": "FGr2d71gBTHx"
      },
      "source": [
        "Criando uma Serie"
      ]
    },
    {
      "cell_type": "code",
      "metadata": {
        "colab": {
          "base_uri": "https://localhost:8080/"
        },
        "id": "2cdIf3Jc5gP4",
        "outputId": "f789734d-514d-401b-f086-e8134f56fd34"
      },
      "source": [
        "base = [1,3,5,7,9,12,15,18,21,24]\n",
        "\n",
        "data = pd.Series(base)\n",
        "\n",
        "print(data)\n",
        "\n",
        "print(type(data))\n"
      ],
      "execution_count": null,
      "outputs": [
        {
          "output_type": "stream",
          "text": [
            "0     1\n",
            "1     3\n",
            "2     5\n",
            "3     7\n",
            "4     9\n",
            "5    12\n",
            "6    15\n",
            "7    18\n",
            "8    21\n",
            "9    24\n",
            "dtype: int64\n",
            "<class 'pandas.core.series.Series'>\n"
          ],
          "name": "stdout"
        }
      ]
    },
    {
      "cell_type": "code",
      "metadata": {
        "id": "BIagoKKJ_rHs",
        "colab": {
          "base_uri": "https://localhost:8080/"
        },
        "outputId": "681161f0-0b1b-4c0d-e344-914fb5b6d68f"
      },
      "source": [
        "data = pd.Series([1,3,5,7,9,12,15,18,21,24])\n",
        "\n",
        "print(data) # Será exibido o índice padrão e os dados transformados em elementos da Serie\n"
      ],
      "execution_count": null,
      "outputs": [
        {
          "output_type": "stream",
          "text": [
            "0     1\n",
            "1     3\n",
            "2     5\n",
            "3     7\n",
            "4     9\n",
            "5    12\n",
            "6    15\n",
            "7    18\n",
            "8    21\n",
            "9    24\n",
            "dtype: int64\n"
          ],
          "name": "stdout"
        }
      ]
    },
    {
      "cell_type": "code",
      "metadata": {
        "colab": {
          "base_uri": "https://localhost:8080/"
        },
        "id": "PgU_eb3V9vm0",
        "outputId": "24c02064-8eb6-4dfd-80f5-2f844a3de30a"
      },
      "source": [
        "print(data.head()) # Retorna os 5 primeiros elementos\n"
      ],
      "execution_count": null,
      "outputs": [
        {
          "output_type": "stream",
          "text": [
            "0    1\n",
            "1    3\n",
            "2    5\n",
            "3    7\n",
            "4    9\n",
            "dtype: int64\n"
          ],
          "name": "stdout"
        }
      ]
    },
    {
      "cell_type": "code",
      "metadata": {
        "id": "nKQfqjeqDopm",
        "colab": {
          "base_uri": "https://localhost:8080/"
        },
        "outputId": "cf01c701-1b5a-4ab2-ad14-70628e055669"
      },
      "source": [
        "data2 = pd.Series(['Ana', 'Carlos', 'Diego', 'Fernando', 'Maria', 'Paulo'])\n",
        "\n",
        "print(data2)\n"
      ],
      "execution_count": null,
      "outputs": [
        {
          "output_type": "stream",
          "text": [
            "0         Ana\n",
            "1      Carlos\n",
            "2       Diego\n",
            "3    Fernando\n",
            "4       Maria\n",
            "5       Paulo\n",
            "dtype: object\n"
          ],
          "name": "stdout"
        }
      ]
    },
    {
      "cell_type": "code",
      "metadata": {
        "colab": {
          "base_uri": "https://localhost:8080/"
        },
        "id": "_VjeshsOgjXz",
        "outputId": "695c7a66-e84d-4eee-bc75-07fee7fa6cd4"
      },
      "source": [
        "nomes = ['Ana', 'Carlos', 'Diego', 'Fernando', 'Maria', 'Paulo']\n",
        "\n",
        "data3 = pd.Series(data = nomes)\n",
        "\n",
        "print(data3)\n"
      ],
      "execution_count": null,
      "outputs": [
        {
          "output_type": "stream",
          "text": [
            "0         Ana\n",
            "1      Carlos\n",
            "2       Diego\n",
            "3    Fernando\n",
            "4       Maria\n",
            "5       Paulo\n",
            "dtype: object\n"
          ],
          "name": "stdout"
        }
      ]
    },
    {
      "cell_type": "code",
      "metadata": {
        "colab": {
          "base_uri": "https://localhost:8080/"
        },
        "id": "no21dSZrg103",
        "outputId": "bc05ece3-95a6-448b-e7b0-6cd279d943f1"
      },
      "source": [
        "# Definindo um indice personalizado\n",
        "\n",
        "indice = [1,2,3,4,5,6]\n",
        "nomes = ['Ana', 'Carlos', 'Diego', 'Fernando', 'Maria', 'Paulo']\n",
        "\n",
        "data4 = pd.Series(data = nomes,\n",
        "                  index = indice)\n",
        "\n",
        "print(data4)\n"
      ],
      "execution_count": null,
      "outputs": [
        {
          "output_type": "stream",
          "text": [
            "1         Ana\n",
            "2      Carlos\n",
            "3       Diego\n",
            "4    Fernando\n",
            "5       Maria\n",
            "6       Paulo\n",
            "dtype: object\n"
          ],
          "name": "stdout"
        }
      ]
    },
    {
      "cell_type": "code",
      "metadata": {
        "colab": {
          "base_uri": "https://localhost:8080/"
        },
        "id": "H0Y8k3JvhMPP",
        "outputId": "cdb38c5a-ae9f-4c44-d45b-0482a457cb19"
      },
      "source": [
        "# Integrando uma array numpy em uma Serie\n",
        "nomes = np.array(['Ana', 'Carlos', 'Diego', 'Fernando', 'Maria', 'Paulo'])\n",
        "\n",
        "data5 = pd.Series(data = nomes)\n",
        "\n",
        "print(data5)\n"
      ],
      "execution_count": null,
      "outputs": [
        {
          "output_type": "stream",
          "text": [
            "0         Ana\n",
            "1      Carlos\n",
            "2       Diego\n",
            "3    Fernando\n",
            "4       Maria\n",
            "5       Paulo\n",
            "dtype: object\n"
          ],
          "name": "stdout"
        }
      ]
    },
    {
      "cell_type": "code",
      "metadata": {
        "colab": {
          "base_uri": "https://localhost:8080/"
        },
        "id": "bPbi3-W5hn_H",
        "outputId": "d5a73bad-d9c8-4215-8c34-f8f9c2178887"
      },
      "source": [
        "# Tudo em Python é objeto, logo, até mesmo um método pode se tornar um elemento de uma Serie\n",
        "\n",
        "funcoes = [input, print]\n",
        "\n",
        "data6 = pd.Series(data = funcoes)\n",
        "\n",
        "print(data6)\n"
      ],
      "execution_count": null,
      "outputs": [
        {
          "output_type": "stream",
          "text": [
            "0    <bound method Kernel.raw_input of <google.cola...\n",
            "1                            <built-in function print>\n",
            "dtype: object\n"
          ],
          "name": "stdout"
        }
      ]
    },
    {
      "cell_type": "code",
      "metadata": {
        "colab": {
          "base_uri": "https://localhost:8080/"
        },
        "id": "2ImQOlyEicCe",
        "outputId": "510ce8c4-e34c-441f-9ce2-c887c5cbd864"
      },
      "source": [
        "# Integrando funções com series\n",
        "paises = ['Argentina', 'Brasil', 'Canada', 'Estados Unidos', 'Italia', 'Mexico']\n",
        "\n",
        "data7 = pd.Series(data = paises, index = np.arange(0,6)) # Valores de índice devem coincidir com os valores de elementos\n",
        "\n",
        "print(data7)\n"
      ],
      "execution_count": null,
      "outputs": [
        {
          "output_type": "stream",
          "text": [
            "0         Argentina\n",
            "1            Brasil\n",
            "2            Canada\n",
            "3    Estados Unidos\n",
            "4            Italia\n",
            "5            Mexico\n",
            "dtype: object\n"
          ],
          "name": "stdout"
        }
      ]
    },
    {
      "cell_type": "markdown",
      "metadata": {
        "id": "S78mA6HyBpWi"
      },
      "source": [
        "Conferindo o tipo de dado"
      ]
    },
    {
      "cell_type": "code",
      "metadata": {
        "id": "UFpfPHXW_rKW",
        "colab": {
          "base_uri": "https://localhost:8080/"
        },
        "outputId": "d75615e8-e233-4ae4-b3d0-8abb352753a7"
      },
      "source": [
        "print(type(data))\n"
      ],
      "execution_count": null,
      "outputs": [
        {
          "output_type": "stream",
          "text": [
            "<class 'pandas.core.series.Series'>\n"
          ],
          "name": "stdout"
        }
      ]
    },
    {
      "cell_type": "markdown",
      "metadata": {
        "id": "i5s0JxeCBs_B"
      },
      "source": [
        "Verificando o tamanho da Serie"
      ]
    },
    {
      "cell_type": "code",
      "metadata": {
        "id": "NlLWhIoR_rMu",
        "colab": {
          "base_uri": "https://localhost:8080/"
        },
        "outputId": "3d354788-ae91-4855-adbe-6009f1487a94"
      },
      "source": [
        "print(data.index)\n",
        "# retornará os valores de índice, nesse caso, iniciando em 0 e terminando em 10\n",
        "# referente a Serie que são números de 1 a 10"
      ],
      "execution_count": null,
      "outputs": [
        {
          "output_type": "stream",
          "text": [
            "RangeIndex(start=0, stop=10, step=1)\n"
          ],
          "name": "stdout"
        }
      ]
    },
    {
      "cell_type": "markdown",
      "metadata": {
        "id": "b93BaZdKFmW6"
      },
      "source": [
        "Criando uma Serie a partir de um dicionário"
      ]
    },
    {
      "cell_type": "code",
      "metadata": {
        "id": "ZlrZX5Yy_rRf",
        "colab": {
          "base_uri": "https://localhost:8080/"
        },
        "outputId": "d9b1442f-3125-4abb-9eaf-136c4dc98432"
      },
      "source": [
        "# No caso de um dicionário, os dados das chaves irão ser atribuídos ao índice da\n",
        "# Serie, enquanto os valores serão atribuídos como os dados padrão\n",
        "\n",
        "dicionario = {'Nome':'Fernando', 'Idade': 33, 'Altura':1.90}\n",
        "\n",
        "serie_dicio = pd.Series(dicionario)\n",
        "\n",
        "print(serie_dicio)\n"
      ],
      "execution_count": null,
      "outputs": [
        {
          "output_type": "stream",
          "text": [
            "Nome      Fernando\n",
            "Idade           33\n",
            "Altura         1.9\n",
            "dtype: object\n"
          ],
          "name": "stdout"
        }
      ]
    },
    {
      "cell_type": "code",
      "metadata": {
        "id": "oROlaTRS_rUP",
        "colab": {
          "base_uri": "https://localhost:8080/"
        },
        "outputId": "acd5965d-afd1-41f6-8860-10d39e2a373f"
      },
      "source": [
        "meses = {1:'Janeiro', 2:'Fevereiro', 3:'Março', 4:'Abril'}\n",
        "\n",
        "serie_meses = pd.Series(meses)\n",
        "\n",
        "print(serie_meses)"
      ],
      "execution_count": null,
      "outputs": [
        {
          "output_type": "stream",
          "text": [
            "1      Janeiro\n",
            "2    Fevereiro\n",
            "3        Março\n",
            "4        Abril\n",
            "dtype: object\n"
          ],
          "name": "stdout"
        }
      ]
    },
    {
      "cell_type": "code",
      "metadata": {
        "id": "pUBKLhhYGagI",
        "colab": {
          "base_uri": "https://localhost:8080/"
        },
        "outputId": "05ca2c78-26e2-4f7a-de92-fbab3e2e5a33"
      },
      "source": [
        "# Somando elementos de duas Series\n",
        "\n",
        "nomes1 = ['Ana', 'Carlos', 'Betina', 'Maria', 'Rafael']\n",
        "nomes2 = ['Ana', 'Alberto', 'Maria', 'Paulo', 'Tania']\n",
        "\n",
        "data_1 = pd.Series([1,2,3,4,5], index = nomes1)\n",
        "# Por justaposição a lista [1,2,3,4,5] irá assumir a posição de data\n",
        "data_2 = pd.Series([1,2,3,4,5], index = nomes2)\n",
        "\n",
        "data_3 = data_1 + data_2\n",
        "\n",
        "print(data_3)\n",
        "# Irá retornar as somas dos índices dos elementos repetidos, por exemplo,\n",
        "# Maria em nomes1 possui valor de índice 4, e em nomes2 valor de índice 3\n",
        "# pois definimos que o índice da Serie iniciaria em 1, no retorno, Maria\n",
        "# aparecerá com valor 7, e onde não houverem dados com valores a serem\n",
        "# somados o retorno será Nan\n"
      ],
      "execution_count": null,
      "outputs": [
        {
          "output_type": "stream",
          "text": [
            "Alberto    NaN\n",
            "Ana        2.0\n",
            "Betina     NaN\n",
            "Carlos     NaN\n",
            "Maria      7.0\n",
            "Paulo      NaN\n",
            "Rafael     NaN\n",
            "Tania      NaN\n",
            "dtype: float64\n"
          ],
          "name": "stdout"
        }
      ]
    },
    {
      "cell_type": "markdown",
      "metadata": {
        "id": "EscHHw3DnEjn"
      },
      "source": [
        "# DataFrames"
      ]
    },
    {
      "cell_type": "code",
      "metadata": {
        "colab": {
          "base_uri": "https://localhost:8080/"
        },
        "id": "EjCMbeklnxnp",
        "outputId": "5329a730-295b-470d-8b48-a32f5360013b"
      },
      "source": [
        "base = {'Nomes':['Ana', 'Carlos', 'Gabriela', 'Maria'],\n",
        "        'Fones':[991384562, 981128449, 999510014, 991120991]}\n",
        "\n",
        "data = pd.DataFrame(base)\n",
        "\n",
        "print(data)\n"
      ],
      "execution_count": null,
      "outputs": [
        {
          "output_type": "stream",
          "text": [
            "      Nomes      Fones\n",
            "0       Ana  991384562\n",
            "1    Carlos  981128449\n",
            "2  Gabriela  999510014\n",
            "3     Maria  991120991\n"
          ],
          "name": "stdout"
        }
      ]
    },
    {
      "cell_type": "code",
      "metadata": {
        "colab": {
          "base_uri": "https://localhost:8080/"
        },
        "id": "ShfDDjwU3BNl",
        "outputId": "ca1825c7-80ff-459e-f92f-2f6e0db2d5da"
      },
      "source": [
        "print(data.info())\n"
      ],
      "execution_count": null,
      "outputs": [
        {
          "output_type": "stream",
          "text": [
            "<class 'pandas.core.frame.DataFrame'>\n",
            "RangeIndex: 4 entries, 0 to 3\n",
            "Data columns (total 2 columns):\n",
            " #   Column  Non-Null Count  Dtype \n",
            "---  ------  --------------  ----- \n",
            " 0   Nomes   4 non-null      object\n",
            " 1   Fones   4 non-null      int64 \n",
            "dtypes: int64(1), object(1)\n",
            "memory usage: 192.0+ bytes\n",
            "None\n"
          ],
          "name": "stdout"
        }
      ]
    },
    {
      "cell_type": "code",
      "metadata": {
        "colab": {
          "base_uri": "https://localhost:8080/"
        },
        "id": "JUKQAH434TDW",
        "outputId": "7117ff48-0872-40a0-8cc3-3d67b11757cf"
      },
      "source": [
        "print(data.describe())\n"
      ],
      "execution_count": null,
      "outputs": [
        {
          "output_type": "stream",
          "text": [
            "              Fones\n",
            "count  4.000000e+00\n",
            "mean   9.907860e+08\n",
            "std    7.524343e+06\n",
            "min    9.811284e+08\n",
            "25%    9.886229e+08\n",
            "50%    9.912528e+08\n",
            "75%    9.934159e+08\n",
            "max    9.995100e+08\n"
          ],
          "name": "stdout"
        }
      ]
    },
    {
      "cell_type": "code",
      "metadata": {
        "colab": {
          "base_uri": "https://localhost:8080/"
        },
        "id": "aZdHbZW0lPau",
        "outputId": "672cea41-9d70-455d-8fac-57f4dfc986a5"
      },
      "source": [
        "base = {'Nomes':['Ana', 'Carlos', 'Gabriela', 'Maria'],\n",
        "        'Fones':[991384562, 981128449, 999510014, 991120991]}\n",
        "\n",
        "data = pd.DataFrame(base)\n",
        "\n",
        "print(data)\n",
        "print(type(data))\n"
      ],
      "execution_count": null,
      "outputs": [
        {
          "output_type": "stream",
          "text": [
            "      Nomes      Fones\n",
            "0       Ana  991384562\n",
            "1    Carlos  981128449\n",
            "2  Gabriela  999510014\n",
            "3     Maria  991120991\n",
            "<class 'pandas.core.frame.DataFrame'>\n"
          ],
          "name": "stdout"
        }
      ]
    },
    {
      "cell_type": "code",
      "metadata": {
        "colab": {
          "base_uri": "https://localhost:8080/"
        },
        "id": "b_mxZF7bj6Xl",
        "outputId": "a3c3a472-8411-42c9-b655-4dd6aef7ae27"
      },
      "source": [
        "data = pd.DataFrame(data = np.random.randn(6,5),\n",
        "                    index = [1,2,3,4,5,6],\n",
        "                    columns = ['a', 'b', 'c', 'd', 'e'])\n",
        "\n",
        "print(data)\n"
      ],
      "execution_count": null,
      "outputs": [
        {
          "output_type": "stream",
          "text": [
            "          a         b         c         d         e\n",
            "1 -0.660239 -2.384071 -0.132480 -0.825165  0.059957\n",
            "2 -1.520237 -0.522214 -0.455825  0.113304  0.773271\n",
            "3  0.132948  1.173114  0.023317  0.216056  0.122682\n",
            "4  0.581321 -0.852377  1.134604 -0.274903  0.763640\n",
            "5  1.801060  0.337714 -0.535462 -1.087883  0.566910\n",
            "6 -1.266000  0.318503  0.342859  0.755646  1.153638\n"
          ],
          "name": "stdout"
        }
      ]
    },
    {
      "cell_type": "code",
      "metadata": {
        "colab": {
          "base_uri": "https://localhost:8080/"
        },
        "id": "_N0M2ppXj6aC",
        "outputId": "cafb6524-d33c-4f67-d0dd-83c307759356"
      },
      "source": [
        "# Extraindo informações apenas de uma coluna, a mesma será considerada uma Serie\n",
        "\n",
        "print(data.columns) # Retornará quais são as colunas do dataframe\n"
      ],
      "execution_count": null,
      "outputs": [
        {
          "output_type": "stream",
          "text": [
            "Index(['a', 'b', 'c', 'd', 'e'], dtype='object')\n"
          ],
          "name": "stdout"
        }
      ]
    },
    {
      "cell_type": "code",
      "metadata": {
        "colab": {
          "base_uri": "https://localhost:8080/"
        },
        "id": "YalSzwtcQnxz",
        "outputId": "d49a35f7-00cf-48a7-9e3c-84ec61fb454a"
      },
      "source": [
        "print(data.index) # Retornará o índice interno do dataframe\n"
      ],
      "execution_count": null,
      "outputs": [
        {
          "output_type": "stream",
          "text": [
            "Int64Index([1, 2, 3, 4, 5, 6], dtype='int64')\n"
          ],
          "name": "stdout"
        }
      ]
    },
    {
      "cell_type": "code",
      "metadata": {
        "colab": {
          "base_uri": "https://localhost:8080/"
        },
        "id": "qpT0RfRbQrUt",
        "outputId": "50ab5338-432e-4184-f5e0-6dccaf673371"
      },
      "source": [
        "print(data['c']) # Retornará apenas os dados da coluna c\n"
      ],
      "execution_count": null,
      "outputs": [
        {
          "output_type": "stream",
          "text": [
            "1   -0.132480\n",
            "2   -0.455825\n",
            "3    0.023317\n",
            "4    1.134604\n",
            "5   -0.535462\n",
            "6    0.342859\n",
            "Name: c, dtype: float64\n"
          ],
          "name": "stdout"
        }
      ]
    },
    {
      "cell_type": "code",
      "metadata": {
        "colab": {
          "base_uri": "https://localhost:8080/"
        },
        "id": "zpYXLZNUQs2j",
        "outputId": "4b4984a8-01f0-47ab-bfa9-d4017330057e"
      },
      "source": [
        "print(type(data)) # Retornará como tipo de dado pandas.core.series.DataFrame\n"
      ],
      "execution_count": null,
      "outputs": [
        {
          "output_type": "stream",
          "text": [
            "<class 'pandas.core.frame.DataFrame'>\n"
          ],
          "name": "stdout"
        }
      ]
    },
    {
      "cell_type": "code",
      "metadata": {
        "colab": {
          "base_uri": "https://localhost:8080/"
        },
        "id": "SYXOuDEeQuI3",
        "outputId": "2deb0073-ddf2-4f9a-e542-4db9f26933d5"
      },
      "source": [
        "print(type(data['c'])) # Retornará como tipo de dado pandas.core.series.Series\n"
      ],
      "execution_count": null,
      "outputs": [
        {
          "output_type": "stream",
          "text": [
            "<class 'pandas.core.series.Series'>\n"
          ],
          "name": "stdout"
        }
      ]
    },
    {
      "cell_type": "code",
      "metadata": {
        "colab": {
          "base_uri": "https://localhost:8080/"
        },
        "id": "WrlbSoEKqC9i",
        "outputId": "436531a7-3ad4-47cd-d36e-3ae267c15977"
      },
      "source": [
        "# Exibindo dados de uma coluna / Método alternativo\n",
        "\n",
        "print(data.d)\n"
      ],
      "execution_count": null,
      "outputs": [
        {
          "output_type": "stream",
          "text": [
            "1   -0.825165\n",
            "2    0.113304\n",
            "3    0.216056\n",
            "4   -0.274903\n",
            "5   -1.087883\n",
            "6    0.755646\n",
            "Name: d, dtype: float64\n"
          ],
          "name": "stdout"
        }
      ]
    },
    {
      "cell_type": "code",
      "metadata": {
        "colab": {
          "base_uri": "https://localhost:8080/"
        },
        "id": "SojBC7nHj6cr",
        "outputId": "0a28af5a-31f0-4c24-b8a6-e32c5d393eb7"
      },
      "source": [
        "# Extraindo dados de mais de uma coluna\n",
        "\n",
        "print(data[['c', 'e']]) # Notação de lista dentro de lista\n"
      ],
      "execution_count": null,
      "outputs": [
        {
          "output_type": "stream",
          "text": [
            "          c         e\n",
            "1 -0.132480  0.059957\n",
            "2 -0.455825  0.773271\n",
            "3  0.023317  0.122682\n",
            "4  1.134604  0.763640\n",
            "5 -0.535462  0.566910\n",
            "6  0.342859  1.153638\n"
          ],
          "name": "stdout"
        }
      ]
    },
    {
      "cell_type": "code",
      "metadata": {
        "colab": {
          "base_uri": "https://localhost:8080/"
        },
        "id": "Ld95cF40j6e7",
        "outputId": "212a8e2c-2670-456c-8425-f66f6f3a3727"
      },
      "source": [
        "# Criando novas colunas manualmente\n",
        "\n",
        "data['f'] = data['a'] + data['e']\n",
        "\n",
        "print(data)\n"
      ],
      "execution_count": null,
      "outputs": [
        {
          "output_type": "stream",
          "text": [
            "          a         b         c         d         e         f\n",
            "1 -0.660239 -2.384071 -0.132480 -0.825165  0.059957 -0.600282\n",
            "2 -1.520237 -0.522214 -0.455825  0.113304  0.773271 -0.746966\n",
            "3  0.132948  1.173114  0.023317  0.216056  0.122682  0.255630\n",
            "4  0.581321 -0.852377  1.134604 -0.274903  0.763640  1.344961\n",
            "5  1.801060  0.337714 -0.535462 -1.087883  0.566910  2.367970\n",
            "6 -1.266000  0.318503  0.342859  0.755646  1.153638 -0.112362\n"
          ],
          "name": "stdout"
        }
      ]
    },
    {
      "cell_type": "code",
      "metadata": {
        "colab": {
          "base_uri": "https://localhost:8080/"
        },
        "id": "tCDPAt8FqdvQ",
        "outputId": "80cacfb3-dffa-4dc6-cfbb-eb39a1a50baf"
      },
      "source": [
        "# Removendo uma coluna\n",
        "data = data.drop('f', axis=1)\n",
        "\n",
        "print(data)\n"
      ],
      "execution_count": null,
      "outputs": [
        {
          "output_type": "stream",
          "text": [
            "          a         b         c         d         e\n",
            "1 -0.660239 -2.384071 -0.132480 -0.825165  0.059957\n",
            "2 -1.520237 -0.522214 -0.455825  0.113304  0.773271\n",
            "3  0.132948  1.173114  0.023317  0.216056  0.122682\n",
            "4  0.581321 -0.852377  1.134604 -0.274903  0.763640\n",
            "5  1.801060  0.337714 -0.535462 -1.087883  0.566910\n",
            "6 -1.266000  0.318503  0.342859  0.755646  1.153638\n"
          ],
          "name": "stdout"
        }
      ]
    },
    {
      "cell_type": "code",
      "metadata": {
        "colab": {
          "base_uri": "https://localhost:8080/"
        },
        "id": "N49pgBQYqdxf",
        "outputId": "3b04d9f2-feb7-4591-ad80-5fd0671d257e"
      },
      "source": [
        "# Removendo uma coluna / Método alternativo\n",
        "data.drop('e', axis=1, inplace=True)\n",
        "\n",
        "print(data)\n"
      ],
      "execution_count": null,
      "outputs": [
        {
          "output_type": "stream",
          "text": [
            "          a         b         c         d\n",
            "1 -0.660239 -2.384071 -0.132480 -0.825165\n",
            "2 -1.520237 -0.522214 -0.455825  0.113304\n",
            "3  0.132948  1.173114  0.023317  0.216056\n",
            "4  0.581321 -0.852377  1.134604 -0.274903\n",
            "5  1.801060  0.337714 -0.535462 -1.087883\n",
            "6 -1.266000  0.318503  0.342859  0.755646\n"
          ],
          "name": "stdout"
        }
      ]
    },
    {
      "cell_type": "code",
      "metadata": {
        "id": "rS7T-dlZGSXG",
        "colab": {
          "base_uri": "https://localhost:8080/"
        },
        "outputId": "2d92e92f-dd52-42dd-a3c0-599eb95701c7"
      },
      "source": [
        "# Removendo uma coluna via método do sistema\n",
        "\n",
        "del data['b'] # Removerá toda a coluna b\n",
        "\n",
        "print(data)\n"
      ],
      "execution_count": null,
      "outputs": [
        {
          "output_type": "stream",
          "text": [
            "          a         c         d\n",
            "1 -0.660239 -0.132480 -0.825165\n",
            "2 -1.520237 -0.455825  0.113304\n",
            "3  0.132948  0.023317  0.216056\n",
            "4  0.581321  1.134604 -0.274903\n",
            "5  1.801060 -0.535462 -1.087883\n",
            "6 -1.266000  0.342859  0.755646\n"
          ],
          "name": "stdout"
        }
      ]
    },
    {
      "cell_type": "code",
      "metadata": {
        "colab": {
          "base_uri": "https://localhost:8080/"
        },
        "id": "RuuAsa0mHdN-",
        "outputId": "33a613cc-834e-4cb1-e6ea-65095b830428"
      },
      "source": [
        "# Ordenando os elementos de uma coluna\n",
        "\n",
        "data = pd.DataFrame(data = np.random.randn(6,5),\n",
        "                    index = [1,2,3,4,5,6],\n",
        "                    columns = ['a', 'b', 'c', 'd', 'e'])\n",
        "\n",
        "print(data)\n",
        "\n",
        "data.sort_values(by = 'b', inplace = True) # Ordenará os elementos da coluna b de forma crescente\n",
        "\n",
        "print(data)\n"
      ],
      "execution_count": null,
      "outputs": [
        {
          "output_type": "stream",
          "text": [
            "          a         b         c         d         e\n",
            "1 -0.257711  0.009830 -1.270163 -0.089428  0.851975\n",
            "2  0.062541  0.208227 -0.360497  0.138461 -0.268417\n",
            "3 -0.205691  0.574546  0.400857 -0.315535 -1.059216\n",
            "4  0.412966  0.431047  0.232933 -1.604191  0.167698\n",
            "5  0.014779 -0.163835  2.410644 -0.386230 -1.851813\n",
            "6  1.384207 -0.415244 -1.571617  0.029496  0.585236\n",
            "          a         b         c         d         e\n",
            "6  1.384207 -0.415244 -1.571617  0.029496  0.585236\n",
            "5  0.014779 -0.163835  2.410644 -0.386230 -1.851813\n",
            "1 -0.257711  0.009830 -1.270163 -0.089428  0.851975\n",
            "2  0.062541  0.208227 -0.360497  0.138461 -0.268417\n",
            "4  0.412966  0.431047  0.232933 -1.604191  0.167698\n",
            "3 -0.205691  0.574546  0.400857 -0.315535 -1.059216\n"
          ],
          "name": "stdout"
        }
      ]
    },
    {
      "cell_type": "code",
      "metadata": {
        "colab": {
          "base_uri": "https://localhost:8080/"
        },
        "id": "uB45FZWDss5h",
        "outputId": "c8f843a6-1188-4425-b3af-01c17bc0db3e"
      },
      "source": [
        "# Exibindo em tela uma linha inteira\n",
        "\n",
        "print(data.loc[3])\n"
      ],
      "execution_count": null,
      "outputs": [
        {
          "output_type": "stream",
          "text": [
            "a   -0.205691\n",
            "b    0.574546\n",
            "c    0.400857\n",
            "d   -0.315535\n",
            "e   -1.059216\n",
            "Name: 3, dtype: float64\n"
          ],
          "name": "stdout"
        }
      ]
    },
    {
      "cell_type": "code",
      "metadata": {
        "colab": {
          "base_uri": "https://localhost:8080/"
        },
        "id": "1iEY7w4Cqdzz",
        "outputId": "78dba891-f7f8-49d1-cd07-e178673352fb"
      },
      "source": [
        "# Buscando um elemento específico do DataFrame\n",
        "\n",
        "print(data.loc[2, 'b']) # Linha 2, Coluna b\n"
      ],
      "execution_count": null,
      "outputs": [
        {
          "output_type": "stream",
          "text": [
            "0.20822720258938007\n"
          ],
          "name": "stdout"
        }
      ]
    },
    {
      "cell_type": "code",
      "metadata": {
        "colab": {
          "base_uri": "https://localhost:8080/"
        },
        "id": "NN1a6Wloj6hB",
        "outputId": "bf097bd5-52dc-4df6-c113-86d96c2d84b7"
      },
      "source": [
        "# Exibindo em tela uma seleção de elementos específicos\n",
        "\n",
        "print(data.loc[[2, 3], ['a', 'b', 'c']])\n"
      ],
      "execution_count": null,
      "outputs": [
        {
          "output_type": "stream",
          "text": [
            "          a         b         c\n",
            "2  0.062541  0.208227 -0.360497\n",
            "3 -0.205691  0.574546  0.400857\n"
          ],
          "name": "stdout"
        }
      ]
    },
    {
      "cell_type": "code",
      "metadata": {
        "colab": {
          "base_uri": "https://localhost:8080/"
        },
        "id": "JLAXBegEtU9-",
        "outputId": "c9296a9e-07cf-48f4-81db-eda5ac722b81"
      },
      "source": [
        "# Buscando elementos usando da notação padrão Python e Numpy\n",
        "\n",
        "print(data.iloc[1:3, 0:3]) # Buscando os mesmos elementos anteriores, porém respeitando a notação padrão de índices que inicia em 0, diferente do loc[] que é parametrizado com os nomes das linhas e colunas\n"
      ],
      "execution_count": null,
      "outputs": [
        {
          "output_type": "stream",
          "text": [
            "          a         b         c\n",
            "5  0.014779 -0.163835  2.410644\n",
            "1 -0.257711  0.009830 -1.270163\n"
          ],
          "name": "stdout"
        }
      ]
    },
    {
      "cell_type": "code",
      "metadata": {
        "colab": {
          "base_uri": "https://localhost:8080/"
        },
        "id": "paZ2DM-ktVAX",
        "outputId": "d48a5f68-f43e-4992-b249-050f893fea9d"
      },
      "source": [
        "# Buscando elementos de acordo com alguma estrutura condicional\n",
        "\n",
        "print(data > 0) # Retornará True para os elementos que validarem esta condição\n"
      ],
      "execution_count": null,
      "outputs": [
        {
          "output_type": "stream",
          "text": [
            "       a      b      c      d      e\n",
            "6   True  False  False   True   True\n",
            "5   True  False   True  False  False\n",
            "1  False   True  False  False   True\n",
            "2   True   True  False   True  False\n",
            "4   True   True   True  False   True\n",
            "3  False   True   True  False  False\n"
          ],
          "name": "stdout"
        }
      ]
    },
    {
      "cell_type": "markdown",
      "metadata": {
        "id": "JZjjnb7fA0C1"
      },
      "source": [
        "## Operações Matemáticas Simples"
      ]
    },
    {
      "cell_type": "code",
      "metadata": {
        "colab": {
          "base_uri": "https://localhost:8080/"
        },
        "id": "eS0240u0A0bJ",
        "outputId": "c37cbc08-4db2-4630-f6a2-0e65139fc618"
      },
      "source": [
        "# Usando de funções embutidas do sistema\n",
        "\n",
        "data = pd.DataFrame(data = np.random.randn(6,5),\n",
        "                    index = [1,2,3,4,5,6],\n",
        "                    columns = ['a', 'b', 'c', 'd', 'e'])\n",
        "\n",
        "print(data)\n",
        "\n",
        "print(data['b'].sum()) # Retornará a soma dos elementos da coluna b\n"
      ],
      "execution_count": null,
      "outputs": [
        {
          "output_type": "stream",
          "text": [
            "          a         b         c         d         e\n",
            "1 -0.415259 -0.501669 -0.713782 -2.082592  1.616589\n",
            "2 -0.817858 -0.870572 -0.424982 -0.573658  0.865107\n",
            "3 -0.411879  0.638088  1.045519 -0.177621  0.676227\n",
            "4  0.592795  1.111397 -0.461058  0.704395 -1.043495\n",
            "5 -1.967252 -0.905126 -0.189190 -0.037243 -0.159245\n",
            "6 -0.420590  2.015701  2.433488  0.039147  1.283519\n",
            "1.4878181627136704\n"
          ],
          "name": "stdout"
        }
      ]
    },
    {
      "cell_type": "code",
      "metadata": {
        "colab": {
          "base_uri": "https://localhost:8080/"
        },
        "id": "ugBeBfeckIZH",
        "outputId": "981d402d-670a-42f7-8393-d0a2d31a9488"
      },
      "source": [
        "# Implementando um valor a todos elementos de um dataframe\n",
        "\n",
        "data = data + 1 # Irá somar 1 a todos os elementos do dataframe original\n",
        "\n",
        "print(data)\n"
      ],
      "execution_count": null,
      "outputs": [
        {
          "output_type": "stream",
          "text": [
            "          a         b         c         d         e\n",
            "1  0.584741  0.498331  0.286218 -1.082592  2.616589\n",
            "2  0.182142  0.129428  0.575018  0.426342  1.865107\n",
            "3  0.588121  1.638088  2.045519  0.822379  1.676227\n",
            "4  1.592795  2.111397  0.538942  1.704395 -0.043495\n",
            "5 -0.967252  0.094874  0.810810  0.962757  0.840755\n",
            "6  0.579410  3.015701  3.433488  1.039147  2.283519\n"
          ],
          "name": "stdout"
        }
      ]
    },
    {
      "cell_type": "code",
      "metadata": {
        "colab": {
          "base_uri": "https://localhost:8080/"
        },
        "id": "pMsnqcgbA4BW",
        "outputId": "c0f55be2-0d21-402f-d6e4-20493daee62a"
      },
      "source": [
        "# Usando de funções personalizadas\n",
        "\n",
        "def soma(x):\n",
        "  return x + x\n",
        "\n",
        "print(data['b'].apply(soma)) # Retornará cada elemento da coluna b somado com ele próprio\n"
      ],
      "execution_count": null,
      "outputs": [
        {
          "output_type": "stream",
          "text": [
            "1    0.996661\n",
            "2    0.258855\n",
            "3    3.276177\n",
            "4    4.222794\n",
            "5    0.189747\n",
            "6    6.031401\n",
            "Name: b, dtype: float64\n"
          ],
          "name": "stdout"
        }
      ]
    },
    {
      "cell_type": "code",
      "metadata": {
        "colab": {
          "base_uri": "https://localhost:8080/"
        },
        "id": "nvqRK5btA4Dp",
        "outputId": "c8c8004b-4cb0-403f-be20-38a2c0ad5a99"
      },
      "source": [
        "def ao_quadrado(num):\n",
        "  return num ** 2\n",
        "\n",
        "print(data['a'].apply(ao_quadrado)) # Retornará cada um dos elementos da coluna 1 elevados a segunda potência\n"
      ],
      "execution_count": null,
      "outputs": [
        {
          "output_type": "stream",
          "text": [
            "1    0.341922\n",
            "2    0.033176\n",
            "3    0.345886\n",
            "4    2.536996\n",
            "5    0.935577\n",
            "6    0.335716\n",
            "Name: a, dtype: float64\n"
          ],
          "name": "stdout"
        }
      ]
    },
    {
      "cell_type": "code",
      "metadata": {
        "colab": {
          "base_uri": "https://localhost:8080/"
        },
        "id": "4eo5uiHsEohr",
        "outputId": "974a9ceb-6d1a-48b0-a79c-7561041bde1e"
      },
      "source": [
        "def ao_quadrado(num):\n",
        "  return num ** 2\n",
        "\n",
        "print(data.iloc[0:1, 1:2].apply(ao_quadrado)) # Retornará o elemento da linha 1, coluna b, elevado a segunda potência\n"
      ],
      "execution_count": null,
      "outputs": [
        {
          "output_type": "stream",
          "text": [
            "          b\n",
            "1  0.248333\n"
          ],
          "name": "stdout"
        }
      ]
    },
    {
      "cell_type": "code",
      "metadata": {
        "colab": {
          "base_uri": "https://localhost:8080/"
        },
        "id": "311B3UBgFoXu",
        "outputId": "2465cd8b-6324-4c6e-e32b-4581a89af07d"
      },
      "source": [
        "# Aplicando função matemática via lambda\n",
        "\n",
        "print(data['d'].apply(lambda x: x ** 2)) # Retornará cada um dos elementos de d elevados a segunda potência\n"
      ],
      "execution_count": null,
      "outputs": [
        {
          "output_type": "stream",
          "text": [
            "1    1.172005\n",
            "2    0.181768\n",
            "3    0.676307\n",
            "4    2.904963\n",
            "5    0.926901\n",
            "6    1.079826\n",
            "Name: d, dtype: float64\n"
          ],
          "name": "stdout"
        }
      ]
    },
    {
      "cell_type": "markdown",
      "metadata": {
        "id": "AtmynT4tAuw4"
      },
      "source": [
        "## Estruturas Condicionais Aplicadas"
      ]
    },
    {
      "cell_type": "code",
      "metadata": {
        "colab": {
          "base_uri": "https://localhost:8080/"
        },
        "id": "yBmvnBB9yBLq",
        "outputId": "31b3c54b-8ea6-455b-ca9f-3cd66bca8147"
      },
      "source": [
        "# Aplicação de estruturas condicionais específicas\n",
        "\n",
        "data = pd.DataFrame(data = np.random.randn(6,5),\n",
        "                    index = [1,2,3,4,5,6],\n",
        "                    columns = ['a', 'b', 'c', 'd', 'e'])\n",
        "\n",
        "print(data)\n",
        "print(data['a']) # Retorna toda a coluna 'a'\n",
        "print(data['a'] < 0) # Retorna True para os elementos da coluna 'a' que forem menores que 0\n"
      ],
      "execution_count": null,
      "outputs": [
        {
          "output_type": "stream",
          "text": [
            "          a         b         c         d         e\n",
            "1  0.105677  0.826157 -0.873715 -0.295809  2.009200\n",
            "2 -0.617518 -0.831652 -0.839997  0.309109 -0.811061\n",
            "3  0.759312  0.549397 -0.147590  0.763669  1.420672\n",
            "4 -0.188942  0.944688  0.989022 -1.040349  0.375211\n",
            "5 -1.761494  0.004413  0.333562  1.070816 -1.359066\n",
            "6 -0.563966 -0.292578  1.179116  0.708826 -0.502686\n",
            "1    0.105677\n",
            "2   -0.617518\n",
            "3    0.759312\n",
            "4   -0.188942\n",
            "5   -1.761494\n",
            "6   -0.563966\n",
            "Name: a, dtype: float64\n",
            "1    False\n",
            "2     True\n",
            "3    False\n",
            "4     True\n",
            "5     True\n",
            "6     True\n",
            "Name: a, dtype: bool\n"
          ],
          "name": "stdout"
        }
      ]
    },
    {
      "cell_type": "code",
      "metadata": {
        "colab": {
          "base_uri": "https://localhost:8080/"
        },
        "id": "rKawyo0LzTBK",
        "outputId": "fa48f753-7d85-419e-9e3d-4fdae3859662"
      },
      "source": [
        "data = pd.DataFrame(data = np.random.randn(6,5),\n",
        "                    index = [1,2,3,4,5,6],\n",
        "                    columns = ['a', 'b', 'c', 'd', 'e'])\n",
        "\n",
        "print(data) # Retorna todo o DataFrame\n",
        "print(data['a']) # Retorna toda a coluna 'a'\n",
        "\n",
        "data2 = data[data['a'] < 0] # Retorna um novo DataFrame sem os elementos da coluna 'a' que forem menores que 0\n",
        "\n",
        "print(data2) \n"
      ],
      "execution_count": null,
      "outputs": [
        {
          "output_type": "stream",
          "text": [
            "          a         b         c         d         e\n",
            "1 -1.652438  0.234257 -0.620103  1.454758 -0.614171\n",
            "2  0.272817  0.222442 -0.797086  0.292053 -1.527912\n",
            "3  0.181929  0.209484  0.874580 -0.380464  1.276958\n",
            "4 -0.303849  0.972203 -0.158802  0.639436 -0.416895\n",
            "5 -0.189525  0.073232  0.017612 -1.635090  0.199823\n",
            "6  0.542742 -0.262157  0.519452  2.078003 -0.727283\n",
            "1   -1.652438\n",
            "2    0.272817\n",
            "3    0.181929\n",
            "4   -0.303849\n",
            "5   -0.189525\n",
            "6    0.542742\n",
            "Name: a, dtype: float64\n",
            "          a         b         c         d         e\n",
            "1 -1.652438  0.234257 -0.620103  1.454758 -0.614171\n",
            "4 -0.303849  0.972203 -0.158802  0.639436 -0.416895\n",
            "5 -0.189525  0.073232  0.017612 -1.635090  0.199823\n"
          ],
          "name": "stdout"
        }
      ]
    },
    {
      "cell_type": "code",
      "metadata": {
        "colab": {
          "base_uri": "https://localhost:8080/"
        },
        "id": "snKjeLMo0af3",
        "outputId": "01ba4c74-f1d7-4812-afa2-a49c1368ecf8"
      },
      "source": [
        "data = pd.DataFrame(data = np.random.randn(6,5),\n",
        "                    index = [1,2,3,4,5,6],\n",
        "                    columns = ['a', 'b', 'c', 'd', 'e'])\n",
        "\n",
        "print(data) # Retorna todo o DataFrame\n",
        "#print(data['a']) # Retorna toda a coluna 'a'\n",
        "print(data[data['a'] < 0]) # Retorna um novo DataFrame sem os elementos da coluna 'a' que forem menores que 0\n",
        "print(data[data['a'] < 0]['e']) # Retorna um novo DataFrame usando como referência os elementos da coluna 'a' que forem menores que 0 mas retornando os elementos equivalentes da coluna 'e'\n"
      ],
      "execution_count": null,
      "outputs": [
        {
          "output_type": "stream",
          "text": [
            "          a         b         c         d         e\n",
            "1  0.768791  0.686690 -0.395777  0.826573  0.569294\n",
            "2 -0.002375 -0.688911  0.534127  0.489858 -1.853215\n",
            "3 -0.041266 -1.394481  1.104799  2.586314  0.464307\n",
            "4  1.213436 -1.179166 -1.236516 -1.359129 -1.989347\n",
            "5 -1.649477  0.182717 -0.551402  1.001786  1.039084\n",
            "6  0.560760  1.055646 -0.370225  0.324462  1.664000\n",
            "          a         b         c         d         e\n",
            "2 -0.002375 -0.688911  0.534127  0.489858 -1.853215\n",
            "3 -0.041266 -1.394481  1.104799  2.586314  0.464307\n",
            "5 -1.649477  0.182717 -0.551402  1.001786  1.039084\n",
            "2   -1.853215\n",
            "3    0.464307\n",
            "5    1.039084\n",
            "Name: e, dtype: float64\n"
          ],
          "name": "stdout"
        }
      ]
    },
    {
      "cell_type": "code",
      "metadata": {
        "colab": {
          "base_uri": "https://localhost:8080/"
        },
        "id": "2wtWMqlIwmuD",
        "outputId": "036ba0bf-17e4-467a-da2e-ab616a27647d"
      },
      "source": [
        "data2 = data[data['a'] < 0]['e']\n",
        "\n",
        "print(data2)\n"
      ],
      "execution_count": null,
      "outputs": [
        {
          "output_type": "stream",
          "text": [
            "2   -1.853215\n",
            "3    0.464307\n",
            "5    1.039084\n",
            "Name: e, dtype: float64\n"
          ],
          "name": "stdout"
        }
      ]
    },
    {
      "cell_type": "code",
      "metadata": {
        "colab": {
          "base_uri": "https://localhost:8080/"
        },
        "id": "k3DsgOFhhsld",
        "outputId": "3490b86a-7260-4070-a5d0-4816c969add3"
      },
      "source": [
        "# Aplicando estruturas condicionais compostas\n",
        "# Operador &\n",
        "\n",
        "data = pd.DataFrame(data = np.random.randn(6,5),\n",
        "                    index = [1,2,3,4,5,6],\n",
        "                    columns = ['a', 'b', 'c', 'd', 'e'])\n",
        "\n",
        "print(data) # Retorna todo o DataFrame\n",
        "#print(data['a']) # Retorna toda a coluna 'a'\n",
        "print(data[(data['a'] < 0) & (data['b'] > 1)]) # Retorna um novo DataFrame sem os elementos da coluna 'a' que forem menores que 0 e sem oselementos de 'b' que forem maiores que 1\n",
        "\n",
        "# Operador & é equivalente ao operador and, porém, permite inspeções entre dados internos a DataFrames\n"
      ],
      "execution_count": null,
      "outputs": [
        {
          "output_type": "stream",
          "text": [
            "          a         b         c         d         e\n",
            "1 -2.342523 -1.484989 -0.906946  1.784503  1.160682\n",
            "2  0.244389  1.170695  1.290602  0.864448  0.548272\n",
            "3  0.726424 -0.834833  1.006129  0.157078  0.115930\n",
            "4 -1.228348 -0.683092  0.159520 -0.129590  0.888072\n",
            "5  0.834671 -1.085667 -1.884535 -0.472604  0.042067\n",
            "6 -0.822679 -0.347766  0.537429 -0.043836  1.079369\n",
            "Empty DataFrame\n",
            "Columns: [a, b, c, d, e]\n",
            "Index: []\n"
          ],
          "name": "stdout"
        }
      ]
    },
    {
      "cell_type": "code",
      "metadata": {
        "colab": {
          "base_uri": "https://localhost:8080/"
        },
        "id": "wsKO-wuQAB1V",
        "outputId": "a9f56aa7-a439-4897-cf7c-d7e876bcafeb"
      },
      "source": [
        "data2 = data[(data['a'] < 0) & (data['b'] > 1)]\n",
        "\n",
        "print(data2)\n"
      ],
      "execution_count": null,
      "outputs": [
        {
          "output_type": "stream",
          "text": [
            "Empty DataFrame\n",
            "Columns: [a, b, c, d, e]\n",
            "Index: []\n"
          ],
          "name": "stdout"
        }
      ]
    },
    {
      "cell_type": "code",
      "metadata": {
        "colab": {
          "base_uri": "https://localhost:8080/"
        },
        "id": "kg6uvKGCjRZ5",
        "outputId": "7b2a36c9-06d0-42a5-c893-4d20aec69af4"
      },
      "source": [
        "# Operador |\n",
        "\n",
        "data = pd.DataFrame(data = np.random.randn(6,5),\n",
        "                    index = [1,2,3,4,5,6],\n",
        "                    columns = ['a', 'b', 'c', 'd', 'e'])\n",
        "\n",
        "print(data) # Retorna todo o DataFrame\n",
        "#print(data['a']) # Retorna toda a coluna 'a'\n",
        "print(data[(data['a'] < 0) | (data['b'] > 1)]) # Retorna um novo DataFrame sem os elementos da coluna 'a' que forem menores que 0 ou sem oselementos de 'b' que forem maiores que 1\n",
        "\n",
        "# Operador I é equivalente ao operador or, porém, permite inspeções entre dados internos a DataFrames\n"
      ],
      "execution_count": null,
      "outputs": [
        {
          "output_type": "stream",
          "text": [
            "          a         b         c         d         e\n",
            "1 -0.831476  1.307496  3.513154  0.976661 -0.726687\n",
            "2  1.062278  0.173122  0.822774  0.363105  2.962542\n",
            "3 -0.321154  0.198088 -0.815852  0.867866 -2.422870\n",
            "4  0.514817 -0.147455 -0.145935 -0.568461 -0.568122\n",
            "5  0.778712  2.540260  0.138506  0.430642  0.149920\n",
            "6 -1.133987  0.713856  1.223171 -1.094095  0.333326\n",
            "          a         b         c         d         e\n",
            "1 -0.831476  1.307496  3.513154  0.976661 -0.726687\n",
            "3 -0.321154  0.198088 -0.815852  0.867866 -2.422870\n",
            "5  0.778712  2.540260  0.138506  0.430642  0.149920\n",
            "6 -1.133987  0.713856  1.223171 -1.094095  0.333326\n"
          ],
          "name": "stdout"
        }
      ]
    },
    {
      "cell_type": "code",
      "metadata": {
        "colab": {
          "base_uri": "https://localhost:8080/"
        },
        "id": "T1vCtzPdwmri",
        "outputId": "1fc96f61-267b-4712-9990-cc0bb7f2bcbd"
      },
      "source": [
        "# Atualizando um DataFrame de acordo com uma condicional\n",
        "\n",
        "data_positivos = data > 0 # Apenas define a regra\n",
        "data = data[data_positivos] # Atualiza os dados da base original de acordo com a regra, porém, onde a condição imposta não é validade, dados ficam com status Nan, ou seja, dados ausentes\n",
        "\n",
        "print(data)\n"
      ],
      "execution_count": null,
      "outputs": [
        {
          "output_type": "stream",
          "text": [
            "          a         b         c         d         e\n",
            "1       NaN  1.307496  3.513154  0.976661       NaN\n",
            "2  1.062278  0.173122  0.822774  0.363105  2.962542\n",
            "3       NaN  0.198088       NaN  0.867866       NaN\n",
            "4  0.514817       NaN       NaN       NaN       NaN\n",
            "5  0.778712  2.540260  0.138506  0.430642  0.149920\n",
            "6       NaN  0.713856  1.223171       NaN  0.333326\n"
          ],
          "name": "stdout"
        }
      ]
    },
    {
      "cell_type": "code",
      "metadata": {
        "id": "z67ClXxJwmwV",
        "colab": {
          "base_uri": "https://localhost:8080/"
        },
        "outputId": "c20c55f5-ecc0-4ad0-dfaf-882bc159862e"
      },
      "source": [
        "# Resetando o índice, e trazendo o DataFrame para suas configurações originais\n",
        "\n",
        "data = pd.DataFrame(data = np.random.randn(6,5),\n",
        "                    index = [1,2,3,4,5,6],\n",
        "                    columns = ['a', 'b', 'c', 'd', 'e'])\n",
        "\n",
        "print(data) # Retorna todo o DataFrame\n",
        "\n",
        "data = data.reset_index() # Coloca o índice interno do DataFrame como o índice principal, tornando o seu índice personalizado apenas mais uma coluna do DataFrame\n",
        "# Usar data.reset_index(inplace = true) caso esteja rodando o DataFrame no Colab\n",
        "\n",
        "print(data)\n"
      ],
      "execution_count": null,
      "outputs": [
        {
          "output_type": "stream",
          "text": [
            "          a         b         c         d         e\n",
            "1 -0.184005 -1.121748  0.503725 -1.589877 -0.094410\n",
            "2 -0.248307  1.445448  0.078634  0.257178 -1.663176\n",
            "3  0.725782  0.341470  0.948590 -0.166461  0.083164\n",
            "4  1.252852 -2.211058  0.893349 -1.459644 -0.668825\n",
            "5  0.775479 -0.736833 -0.235970  1.291084 -1.741621\n",
            "6  0.567714 -0.292363  0.484291  0.167546 -0.818537\n",
            "   index         a         b         c         d         e\n",
            "0      1 -0.184005 -1.121748  0.503725 -1.589877 -0.094410\n",
            "1      2 -0.248307  1.445448  0.078634  0.257178 -1.663176\n",
            "2      3  0.725782  0.341470  0.948590 -0.166461  0.083164\n",
            "3      4  1.252852 -2.211058  0.893349 -1.459644 -0.668825\n",
            "4      5  0.775479 -0.736833 -0.235970  1.291084 -1.741621\n",
            "5      6  0.567714 -0.292363  0.484291  0.167546 -0.818537\n"
          ],
          "name": "stdout"
        }
      ]
    },
    {
      "cell_type": "code",
      "metadata": {
        "id": "mSBv5Mrrwmy4",
        "colab": {
          "base_uri": "https://localhost:8080/"
        },
        "outputId": "9f75f82b-27e5-41f5-819a-8a594db0ce0b"
      },
      "source": [
        "data = pd.DataFrame(data = np.random.randn(6,5),\n",
        "                    index = [1,2,3,4,5,6],\n",
        "                    columns = ['a', 'b', 'c', 'd', 'e'])\n",
        "\n",
        "coluna_V = 'V1 V2 V3 V4 V5 V6'.split()\n",
        "data['IdV'] = coluna_V\n",
        "\n",
        "print(data)\n",
        "\n",
        "data = data.set_index('IdV')\n",
        "\n",
        "print(data)\n"
      ],
      "execution_count": null,
      "outputs": [
        {
          "output_type": "stream",
          "text": [
            "          a         b         c         d         e IdV\n",
            "1 -0.164515  1.433374 -2.928618 -0.528473  0.366761  V1\n",
            "2 -1.977403  0.974216 -1.202156 -1.125922  1.990565  V2\n",
            "3 -0.623746 -1.733326  2.011146 -1.472272  0.121073  V3\n",
            "4 -2.041764 -0.490723 -0.185645  0.014834  0.230957  V4\n",
            "5 -0.518234  2.280337 -0.335527  0.023184  0.965867  V5\n",
            "6  0.012757  0.006243  0.650792 -1.388848  0.191506  V6\n",
            "            a         b         c         d         e\n",
            "IdV                                                  \n",
            "V1  -0.164515  1.433374 -2.928618 -0.528473  0.366761\n",
            "V2  -1.977403  0.974216 -1.202156 -1.125922  1.990565\n",
            "V3  -0.623746 -1.733326  2.011146 -1.472272  0.121073\n",
            "V4  -2.041764 -0.490723 -0.185645  0.014834  0.230957\n",
            "V5  -0.518234  2.280337 -0.335527  0.023184  0.965867\n",
            "V6   0.012757  0.006243  0.650792 -1.388848  0.191506\n"
          ],
          "name": "stdout"
        }
      ]
    },
    {
      "cell_type": "code",
      "metadata": {
        "id": "UnmmNDW_wm0y",
        "colab": {
          "base_uri": "https://localhost:8080/"
        },
        "outputId": "5f092c37-1a48-42a2-a812-d2f22c7f4212"
      },
      "source": [
        "# Índices com multiníveis\n",
        "\n",
        "indice1 = ['A1', 'A1', 'A1', 'A2', 'A2', 'A2']\n",
        "indice2 = [1,2,3,1,2,3]\n",
        "\n",
        "indice3 = list(zip(indice1, indice2)) # Criamos uma lista de tuplas via zip()\n",
        "indice3 = pd.MultiIndex.from_tuples(indice3) # Geramos um índice multinível via MultiIndex.from_tuples()\n",
        "\n",
        "print(indice3)\n",
        "\n",
        "data8 = pd.DataFrame(data = np.random.randn(6,2),\n",
        "                     index = indice3)\n",
        "\n",
        "print(data8)\n"
      ],
      "execution_count": null,
      "outputs": [
        {
          "output_type": "stream",
          "text": [
            "MultiIndex([('A1', 1),\n",
            "            ('A1', 2),\n",
            "            ('A1', 3),\n",
            "            ('A2', 1),\n",
            "            ('A2', 2),\n",
            "            ('A2', 3)],\n",
            "           )\n",
            "             0         1\n",
            "A1 1 -0.747154 -0.628563\n",
            "   2 -0.200570 -1.469755\n",
            "   3  0.345957  0.850436\n",
            "A2 1 -0.646524 -0.750069\n",
            "   2  0.002087  0.131923\n",
            "   3 -0.415588  1.117490\n"
          ],
          "name": "stdout"
        }
      ]
    },
    {
      "cell_type": "code",
      "metadata": {
        "id": "kvXkKHErtVCs",
        "colab": {
          "base_uri": "https://localhost:8080/"
        },
        "outputId": "0f7f7915-b1f6-4c35-cd4e-0b0839f6248b"
      },
      "source": [
        "indice1 = ['Nivel1', 'Nivel1', 'Nivel1', 'Nivel2', 'Nivel2', 'Nivel2']\n",
        "indice2 = ['SubNivel1','SubNivel2','SubNivel3','SubNivel1','SubNivel2','SubNivel3']\n",
        "\n",
        "indice3 = list(zip(indice1, indice2)) # Criamos uma lista de tuplas via zip()\n",
        "indice3 = pd.MultiIndex.from_tuples(indice3) # Geramos um índice multinível via MultiIndex.from_tuples()\n",
        "\n",
        "data8 = pd.DataFrame(data = np.random.randn(6,2),\n",
        "                     index = indice3,\n",
        "                     columns = ['Coluna1', 'Coluna2'])\n",
        "\n",
        "print(data8)\n"
      ],
      "execution_count": null,
      "outputs": [
        {
          "output_type": "stream",
          "text": [
            "                   Coluna1   Coluna2\n",
            "Nivel1 SubNivel1 -0.130429 -1.461131\n",
            "       SubNivel2  1.020017  0.547714\n",
            "       SubNivel3  0.732596 -0.016046\n",
            "Nivel2 SubNivel1 -0.552611 -0.468522\n",
            "       SubNivel2 -0.413435  1.168871\n",
            "       SubNivel3  0.373371 -0.564922\n"
          ],
          "name": "stdout"
        }
      ]
    },
    {
      "cell_type": "code",
      "metadata": {
        "id": "sL44PU_Elxbt"
      },
      "source": [
        ""
      ],
      "execution_count": null,
      "outputs": []
    },
    {
      "cell_type": "code",
      "metadata": {
        "colab": {
          "base_uri": "https://localhost:8080/"
        },
        "id": "qC_6bywylxeR",
        "outputId": "161a44d0-2da7-4fbc-ddaf-5c3f606a49c2"
      },
      "source": [
        "# Acessando subnível\n",
        "\n",
        "print(data8.loc['Nivel2'].loc['SubNivel3'])\n"
      ],
      "execution_count": null,
      "outputs": [
        {
          "output_type": "stream",
          "text": [
            "Coluna1    0.373371\n",
            "Coluna2   -0.564922\n",
            "Name: SubNivel3, dtype: float64\n"
          ],
          "name": "stdout"
        }
      ]
    },
    {
      "cell_type": "code",
      "metadata": {
        "colab": {
          "base_uri": "https://localhost:8080/"
        },
        "id": "aLtLjzSwqKQo",
        "outputId": "3adccec8-745c-4f8e-9b2c-abb19b574a53"
      },
      "source": [
        "# Acessando nível ou subnível / método alternativo\n",
        "\n",
        "print(data8.xs('Nivel2')) # Retornará os subníveis atrelados a este nível\n"
      ],
      "execution_count": null,
      "outputs": [
        {
          "output_type": "stream",
          "text": [
            "            Coluna1   Coluna2\n",
            "SubNivel1 -0.552611 -0.468522\n",
            "SubNivel2 -0.413435  1.168871\n",
            "SubNivel3  0.373371 -0.564922\n"
          ],
          "name": "stdout"
        }
      ]
    },
    {
      "cell_type": "code",
      "metadata": {
        "colab": {
          "base_uri": "https://localhost:8080/"
        },
        "id": "uSDyMuD4lxgm",
        "outputId": "1d29c955-40ca-4978-c197-b3e84da2578a"
      },
      "source": [
        "# Atribuindo nomes para os níveis e subníveis\n",
        "\n",
        "indice1 = ['Nivel1', 'Nivel1', 'Nivel1', 'Nivel2', 'Nivel2', 'Nivel2']\n",
        "indice2 = ['SubNivel1','SubNivel2','SubNivel3','SubNivel1','SubNivel2','SubNivel3']\n",
        "\n",
        "indice3 = list(zip(indice1, indice2))\n",
        "indice3 = pd.MultiIndex.from_tuples(indice3)\n",
        "\n",
        "data8 = pd.DataFrame(data = np.random.randn(6,2),\n",
        "                     index = indice3,\n",
        "                     columns = ['Coluna1', 'Coluna2'])\n",
        "\n",
        "data8.index.names = ['NIVEIS', 'SUBNIVEIS']\n",
        "\n",
        "print(data8)\n"
      ],
      "execution_count": null,
      "outputs": [
        {
          "output_type": "stream",
          "text": [
            "                   Coluna1   Coluna2\n",
            "NIVEIS SUBNIVEIS                    \n",
            "Nivel1 SubNivel1 -0.256268  1.491571\n",
            "       SubNivel2 -0.002988  0.181314\n",
            "       SubNivel3 -1.260985 -2.286563\n",
            "Nivel2 SubNivel1 -0.009038 -0.130245\n",
            "       SubNivel2 -0.526559 -1.815398\n",
            "       SubNivel3 -0.372813  0.450022\n"
          ],
          "name": "stdout"
        }
      ]
    },
    {
      "cell_type": "code",
      "metadata": {
        "colab": {
          "base_uri": "https://localhost:8080/"
        },
        "id": "O7oZnnhyJwIR",
        "outputId": "caf14187-b897-4946-ba22-38081cb2bd71"
      },
      "source": [
        "# Gerando indices multinível via pivot_table( )\n",
        "\n",
        "data = pd.DataFrame({'A':['1', '1', '1', '2', '2', '2'],\n",
        "                     'B':['3', '3', '2', '2', '1', '1'],\n",
        "                     'C':['x', 'y', 'x', 'y', 'x', 'y'],\n",
        "                     'D':[1,2,3,9,8,7]})\n",
        "\n",
        "data.pivot_table(values = 'D', index = ['A', 'B'], columns = ['C'])\n",
        "\n",
        "print(data)\n"
      ],
      "execution_count": null,
      "outputs": [
        {
          "output_type": "stream",
          "text": [
            "   A  B  C  D\n",
            "0  1  3  x  1\n",
            "1  1  3  y  2\n",
            "2  1  2  x  3\n",
            "3  2  2  y  9\n",
            "4  2  1  x  8\n",
            "5  2  1  y  7\n"
          ],
          "name": "stdout"
        }
      ]
    },
    {
      "cell_type": "markdown",
      "metadata": {
        "id": "4I8ViplQifax"
      },
      "source": [
        "## Entrada de Dados"
      ]
    },
    {
      "cell_type": "code",
      "metadata": {
        "colab": {
          "base_uri": "https://localhost:8080/"
        },
        "id": "w8dXS4wyih8_",
        "outputId": "9eb3c281-faef-415a-a2bb-9764a3835e83"
      },
      "source": [
        "# Importando dados de um arquivo para um dataframe\n",
        "\n",
        "import numpy as np\n",
        "import pandas as pd\n",
        "\n",
        "data = pd.read_csv('/content/sample_data/mnist_test.csv')\n",
        "# Usar pd.read_excel() quando for importar dados de uma planilha com múltiplas abas\n",
        "\n",
        "print(data)\n"
      ],
      "execution_count": null,
      "outputs": [
        {
          "output_type": "stream",
          "text": [
            "      7  0  0.1  0.2  0.3  0.4  ...  0.662  0.663  0.664  0.665  0.666  0.667\n",
            "0     2  0    0    0    0    0  ...      0      0      0      0      0      0\n",
            "1     1  0    0    0    0    0  ...      0      0      0      0      0      0\n",
            "2     0  0    0    0    0    0  ...      0      0      0      0      0      0\n",
            "3     4  0    0    0    0    0  ...      0      0      0      0      0      0\n",
            "4     1  0    0    0    0    0  ...      0      0      0      0      0      0\n",
            "...  .. ..  ...  ...  ...  ...  ...    ...    ...    ...    ...    ...    ...\n",
            "9994  2  0    0    0    0    0  ...      0      0      0      0      0      0\n",
            "9995  3  0    0    0    0    0  ...      0      0      0      0      0      0\n",
            "9996  4  0    0    0    0    0  ...      0      0      0      0      0      0\n",
            "9997  5  0    0    0    0    0  ...      0      0      0      0      0      0\n",
            "9998  6  0    0    0    0    0  ...      0      0      0      0      0      0\n",
            "\n",
            "[9999 rows x 785 columns]\n"
          ],
          "name": "stdout"
        }
      ]
    },
    {
      "cell_type": "code",
      "metadata": {
        "id": "9PT_Z66eih_u"
      },
      "source": [
        "# Exportando de um dataframe para um arquivo\n",
        "\n",
        "data.to_csv('base_atualizada.csv')\n"
      ],
      "execution_count": null,
      "outputs": []
    },
    {
      "cell_type": "markdown",
      "metadata": {
        "id": "g9gIqq9HsiNX"
      },
      "source": [
        "## Tratamento de Dados"
      ]
    },
    {
      "cell_type": "code",
      "metadata": {
        "id": "65AaHrJMlxi8",
        "colab": {
          "base_uri": "https://localhost:8080/"
        },
        "outputId": "8389b352-c57f-4941-d5ae-e310eee3dfff"
      },
      "source": [
        "# Tratamento de dados ausentes/faltantes\n",
        "\n",
        "import numpy as np\n",
        "import pandas as pd\n",
        "\n",
        "data = {'Cidades': ['Porto Alegre', 'Curitiba', np.nan],\n",
        "        'Estados': ['Paraná', np.nan, 'São Paulo'],\n",
        "        'Países': ['Brasil', np.nan, np.nan]}\n",
        "\n",
        "print(data)\n"
      ],
      "execution_count": null,
      "outputs": [
        {
          "output_type": "stream",
          "text": [
            "{'Cidades': ['Porto Alegre', 'Curitiba', nan], 'Estados': ['Paraná', nan, 'São Paulo'], 'Países': ['Brasil', nan, nan]}\n"
          ],
          "name": "stdout"
        }
      ]
    },
    {
      "cell_type": "code",
      "metadata": {
        "id": "e3Tf4qNAlxlV",
        "colab": {
          "base_uri": "https://localhost:8080/"
        },
        "outputId": "69db2f52-726c-4412-f8b3-96a846e566c4"
      },
      "source": [
        "data = {'Cidades': ['Porto Alegre', 'Curitiba', np.nan],\n",
        "        'Estados': ['Paraná', np.nan, 'São Paulo'],\n",
        "        'Países': ['Brasil', np.nan, np.nan]}\n",
        "\n",
        "data = pd.DataFrame(data)\n",
        "\n",
        "print(data)\n"
      ],
      "execution_count": null,
      "outputs": [
        {
          "output_type": "stream",
          "text": [
            "        Cidades    Estados  Países\n",
            "0  Porto Alegre     Paraná  Brasil\n",
            "1      Curitiba        NaN     NaN\n",
            "2           NaN  São Paulo     NaN\n"
          ],
          "name": "stdout"
        }
      ]
    },
    {
      "cell_type": "code",
      "metadata": {
        "colab": {
          "base_uri": "https://localhost:8080/"
        },
        "id": "1oPDkFomfBXR",
        "outputId": "525b92af-1fd1-48fa-8358-a965a4ae4f93"
      },
      "source": [
        "data = data.dropna() # Removerá todas linhas e colunas onde houverem dados faltantes\n",
        "\n",
        "print(data)\n"
      ],
      "execution_count": null,
      "outputs": [
        {
          "output_type": "stream",
          "text": [
            "        Cidades Estados  Países\n",
            "0  Porto Alegre  Paraná  Brasil\n"
          ],
          "name": "stdout"
        }
      ]
    },
    {
      "cell_type": "code",
      "metadata": {
        "colab": {
          "base_uri": "https://localhost:8080/"
        },
        "id": "EsbEto_GfBZ0",
        "outputId": "48ca0c37-6871-4994-ef7f-ee491e397c44"
      },
      "source": [
        "data = data.dropna(thresh = 2) # Removerá todas linhas e colunas onde houverem no mínimo dois dados faltantes\n",
        "\n",
        "print(data)\n"
      ],
      "execution_count": null,
      "outputs": [
        {
          "output_type": "stream",
          "text": [
            "        Cidades Estados  Países\n",
            "0  Porto Alegre  Paraná  Brasil\n"
          ],
          "name": "stdout"
        }
      ]
    },
    {
      "cell_type": "code",
      "metadata": {
        "colab": {
          "base_uri": "https://localhost:8080/"
        },
        "id": "yFdWoajmOElK",
        "outputId": "b2cbfb9a-e6bb-4914-f4e7-7600b9ac9226"
      },
      "source": [
        "data = {'Cidades': ['Porto Alegre', 'Curitiba', np.nan],\n",
        "        'Estados': ['Paraná', np.nan, 'São Paulo'],\n",
        "        'Países': ['Brasil', np.nan, np.nan]}\n",
        "\n",
        "data = pd.DataFrame(data)\n",
        "\n",
        "data['Cidades'] = data['Cidades'].replace({np.nan: 'Santa Maria'})\n",
        "\n",
        "print(data)\n"
      ],
      "execution_count": null,
      "outputs": [
        {
          "output_type": "stream",
          "text": [
            "        Cidades    Estados  Países\n",
            "0  Porto Alegre     Paraná  Brasil\n",
            "1      Curitiba        NaN     NaN\n",
            "2   Santa Maria  São Paulo     NaN\n"
          ],
          "name": "stdout"
        }
      ]
    },
    {
      "cell_type": "code",
      "metadata": {
        "colab": {
          "base_uri": "https://localhost:8080/"
        },
        "id": "lWEVrLThfBcM",
        "outputId": "9bfaad32-20a5-40be-aa79-649d979b541d"
      },
      "source": [
        "# Método fillna() para tratar dados ausentes\n",
        "\n",
        "data = {'Cidades': ['Porto Alegre', 'Curitiba', np.nan],\n",
        "        'Estados': ['Paraná', np.nan, 'São Paulo'],\n",
        "        'Países': ['Brasil', np.nan, np.nan]}\n",
        "\n",
        "data = pd.DataFrame(data)\n",
        "\n",
        "data = data.fillna(value = 'Dados Ausentes') # Substitui todo campo onde não houverem dados por uma string ou qualquer dado padrão\n",
        "\n",
        "print(data)\n"
      ],
      "execution_count": null,
      "outputs": [
        {
          "output_type": "stream",
          "text": [
            "          Cidades         Estados          Países\n",
            "0    Porto Alegre          Paraná          Brasil\n",
            "1        Curitiba  Dados Ausentes  Dados Ausentes\n",
            "2  Dados Ausentes       São Paulo  Dados Ausentes\n"
          ],
          "name": "stdout"
        }
      ]
    },
    {
      "cell_type": "code",
      "metadata": {
        "colab": {
          "base_uri": "https://localhost:8080/"
        },
        "id": "U8WmtpYyfBfD",
        "outputId": "f6b26762-0031-4079-e78e-bc56b0cebac9"
      },
      "source": [
        "# Preenchendo dados faltantes com as médias dos dados antecessores e sucessores\n",
        "\n",
        "data = {'1º Semestre': [8.2, 8.0, np.nan],\n",
        "        '2º Semestre': [7.7, np.nan, 8.0],\n",
        "        'Recuperação': [7.9, np.nan, np.nan]}\n",
        "\n",
        "data = pd.DataFrame(data)\n",
        "\n",
        "print(data)\n",
        "\n",
        "data['1º Semestre'].fillna(value = data['1º Semestre'].mean(), inplace = True)\n",
        "data['2º Semestre'].fillna(value = data['2º Semestre'].mean(), inplace = True)\n",
        "data['Recuperação'].fillna(value = data['Recuperação'].mean(), inplace = True)\n",
        "\n",
        "print(data)\n"
      ],
      "execution_count": null,
      "outputs": [
        {
          "output_type": "stream",
          "text": [
            "   1º Semestre  2º Semestre  Recuperação\n",
            "0          8.2          7.7          7.9\n",
            "1          8.0          NaN          NaN\n",
            "2          NaN          8.0          NaN\n",
            "   1º Semestre  2º Semestre  Recuperação\n",
            "0          8.2         7.70          7.9\n",
            "1          8.0         7.85          7.9\n",
            "2          8.1         8.00          7.9\n"
          ],
          "name": "stdout"
        }
      ]
    },
    {
      "cell_type": "code",
      "metadata": {
        "colab": {
          "base_uri": "https://localhost:8080/"
        },
        "id": "KO4uCgvTk9s8",
        "outputId": "711a52da-d45e-40c9-87ef-91822a0e5039"
      },
      "source": [
        "# Preenchendo dados faltantes com os dados do elemento anterior\n",
        "\n",
        "data = {'1º Semestre': [8.2, 8.0, np.nan],\n",
        "        '2º Semestre': [7.7, np.nan, 8.0],\n",
        "        'Recuperação': [7.9, np.nan, np.nan]}\n",
        "\n",
        "data = pd.DataFrame(data)\n",
        "\n",
        "print(data)\n",
        "\n",
        "data = data.fillna(method = 'ffill')\n",
        "\n",
        "print(data)\n"
      ],
      "execution_count": null,
      "outputs": [
        {
          "output_type": "stream",
          "text": [
            "   1º Semestre  2º Semestre  Recuperação\n",
            "0          8.2          7.7          7.9\n",
            "1          8.0          NaN          NaN\n",
            "2          NaN          8.0          NaN\n",
            "   1º Semestre  2º Semestre  Recuperação\n",
            "0          8.2          7.7          7.9\n",
            "1          8.0          7.7          7.9\n",
            "2          8.0          8.0          7.9\n"
          ],
          "name": "stdout"
        }
      ]
    },
    {
      "cell_type": "code",
      "metadata": {
        "colab": {
          "base_uri": "https://localhost:8080/"
        },
        "id": "6-_GPm4DInmL",
        "outputId": "9e1637f7-8bdd-480f-bca2-198b6804c2f7"
      },
      "source": [
        "# Verificando a presença de dados nulos\n",
        "\n",
        "data = pd.read_csv('/content/sample_data/mnist_test.csv')\n",
        "\n",
        "data = pd.DataFrame(data)\n",
        "\n",
        "print(data.isnull())\n"
      ],
      "execution_count": null,
      "outputs": [
        {
          "output_type": "stream",
          "text": [
            "          7      0    0.1    0.2    0.3  ...  0.663  0.664  0.665  0.666  0.667\n",
            "0     False  False  False  False  False  ...  False  False  False  False  False\n",
            "1     False  False  False  False  False  ...  False  False  False  False  False\n",
            "2     False  False  False  False  False  ...  False  False  False  False  False\n",
            "3     False  False  False  False  False  ...  False  False  False  False  False\n",
            "4     False  False  False  False  False  ...  False  False  False  False  False\n",
            "...     ...    ...    ...    ...    ...  ...    ...    ...    ...    ...    ...\n",
            "9994  False  False  False  False  False  ...  False  False  False  False  False\n",
            "9995  False  False  False  False  False  ...  False  False  False  False  False\n",
            "9996  False  False  False  False  False  ...  False  False  False  False  False\n",
            "9997  False  False  False  False  False  ...  False  False  False  False  False\n",
            "9998  False  False  False  False  False  ...  False  False  False  False  False\n",
            "\n",
            "[9999 rows x 785 columns]\n"
          ],
          "name": "stdout"
        }
      ]
    },
    {
      "cell_type": "markdown",
      "metadata": {
        "id": "FelL5Fw1ludz"
      },
      "source": [
        "Agrupando dados de acordo com seu tipo / GroupBy"
      ]
    },
    {
      "cell_type": "code",
      "metadata": {
        "colab": {
          "base_uri": "https://localhost:8080/"
        },
        "id": "EDBr_eQLk9vc",
        "outputId": "15c652ca-a96c-49e9-a8b1-d65ecc7022fa"
      },
      "source": [
        "data = {'Vendedor': ['Ana', 'Paulo', 'Maria', 'Miguel', 'Rafael', 'Ana'],\n",
        "        'Item': ['Camisa Nike', 'Tênis Adidas', 'Camisa Nike',\n",
        "                 'Meias Speedo', 'Tênis Nike', 'Camisa Nike'],\n",
        "        'Valor': [109.90, 299.00, 115.90, 24.99, 289.90, 99.90]}\n",
        "\n",
        "data = pd.DataFrame(data)\n",
        "\n",
        "print(data)\n"
      ],
      "execution_count": null,
      "outputs": [
        {
          "output_type": "stream",
          "text": [
            "  Vendedor          Item   Valor\n",
            "0      Ana   Camisa Nike  109.90\n",
            "1    Paulo  Tênis Adidas  299.00\n",
            "2    Maria   Camisa Nike  115.90\n",
            "3   Miguel  Meias Speedo   24.99\n",
            "4   Rafael    Tênis Nike  289.90\n",
            "5      Ana   Camisa Nike   99.90\n"
          ],
          "name": "stdout"
        }
      ]
    },
    {
      "cell_type": "code",
      "metadata": {
        "colab": {
          "base_uri": "https://localhost:8080/"
        },
        "id": "HcEr4yFnk9x8",
        "outputId": "77554cc9-10b0-4102-e09c-62fd45bcf62e"
      },
      "source": [
        "itens = data.groupby('Item') # Irá gerar os dados pelo parâmetro de agrupamento definido\n",
        "\n",
        "print(itens) # Irá retornar apenas a referência do objeto alocado em memória\n"
      ],
      "execution_count": null,
      "outputs": [
        {
          "output_type": "stream",
          "text": [
            "<pandas.core.groupby.generic.DataFrameGroupBy object at 0x7f50b29bf450>\n"
          ],
          "name": "stdout"
        }
      ]
    },
    {
      "cell_type": "code",
      "metadata": {
        "colab": {
          "base_uri": "https://localhost:8080/"
        },
        "id": "bf65F24ik91B",
        "outputId": "e1164d96-3a3d-4d24-98c7-e2a7ac1eec21"
      },
      "source": [
        "print(itens.sum()) # Irá retornar os itens agrupados com seus valores somados, nesse caso, o interpretador ignora qualquer coluna de texto\n"
      ],
      "execution_count": null,
      "outputs": [
        {
          "output_type": "stream",
          "text": [
            "               Valor\n",
            "Item                \n",
            "Camisa Nike   325.70\n",
            "Meias Speedo   24.99\n",
            "Tênis Adidas  299.00\n",
            "Tênis Nike    289.90\n"
          ],
          "name": "stdout"
        }
      ]
    },
    {
      "cell_type": "code",
      "metadata": {
        "colab": {
          "base_uri": "https://localhost:8080/"
        },
        "id": "IybkwQurfBgf",
        "outputId": "68ab92bb-2972-462c-8a1e-7cd2f4d738be"
      },
      "source": [
        "print(itens.mean()) # Irá retornar os itens agrupados e o valor médio de cada tipo de item, nesse caso, o interpretador ignora qualquer coluna de texto\n"
      ],
      "execution_count": null,
      "outputs": [
        {
          "output_type": "stream",
          "text": [
            "                   Valor\n",
            "Item                    \n",
            "Camisa Nike   108.566667\n",
            "Meias Speedo   24.990000\n",
            "Tênis Adidas  299.000000\n",
            "Tênis Nike    289.900000\n"
          ],
          "name": "stdout"
        }
      ]
    },
    {
      "cell_type": "code",
      "metadata": {
        "colab": {
          "base_uri": "https://localhost:8080/"
        },
        "id": "XcbKitYTpb2y",
        "outputId": "056159c3-a398-48b8-8df4-ba8bed628939"
      },
      "source": [
        "print(itens.count())# Irá retornar a contagem dos itens agrupados, considerando todas as informações sobre um determinado item\n"
      ],
      "execution_count": null,
      "outputs": [
        {
          "output_type": "stream",
          "text": [
            "              Vendedor  Valor\n",
            "Item                         \n",
            "Camisa Nike          3      3\n",
            "Meias Speedo         1      1\n",
            "Tênis Adidas         1      1\n",
            "Tênis Nike           1      1\n"
          ],
          "name": "stdout"
        }
      ]
    },
    {
      "cell_type": "code",
      "metadata": {
        "colab": {
          "base_uri": "https://localhost:8080/"
        },
        "id": "qS23KaEJohSF",
        "outputId": "7cd39fce-c256-4b81-f3d9-dac819785bc5"
      },
      "source": [
        "print(itens.describe())\n"
      ],
      "execution_count": null,
      "outputs": [
        {
          "output_type": "stream",
          "text": [
            "             Valor                        ...                        \n",
            "             count        mean       std  ...     50%     75%     max\n",
            "Item                                      ...                        \n",
            "Camisa Nike    3.0  108.566667  8.082904  ...  109.90  112.90  115.90\n",
            "Meias Speedo   1.0   24.990000       NaN  ...   24.99   24.99   24.99\n",
            "Tênis Adidas   1.0  299.000000       NaN  ...  299.00  299.00  299.00\n",
            "Tênis Nike     1.0  289.900000       NaN  ...  289.90  289.90  289.90\n",
            "\n",
            "[4 rows x 8 columns]\n"
          ],
          "name": "stdout"
        }
      ]
    },
    {
      "cell_type": "code",
      "metadata": {
        "colab": {
          "base_uri": "https://localhost:8080/"
        },
        "id": "UptjLP1lohUh",
        "outputId": "8fcf1b3a-bd6b-4060-895f-0b56d3d6f147"
      },
      "source": [
        "vendedores = data.groupby('Vendedor')\n",
        "\n",
        "print(vendedores.sum().loc['Ana']) # Irá retornar apenas os valores de venda atribuídos a Ana\n"
      ],
      "execution_count": null,
      "outputs": [
        {
          "output_type": "stream",
          "text": [
            "Valor    209.8\n",
            "Name: Ana, dtype: float64\n"
          ],
          "name": "stdout"
        }
      ]
    },
    {
      "cell_type": "markdown",
      "metadata": {
        "id": "p_0ErD5xr6wv"
      },
      "source": [
        "## Métodos Aplicados"
      ]
    },
    {
      "cell_type": "markdown",
      "metadata": {
        "id": "QGUTVXvzmPJO"
      },
      "source": [
        "Alterando o formato de um dataframe"
      ]
    },
    {
      "cell_type": "code",
      "metadata": {
        "colab": {
          "base_uri": "https://localhost:8080/"
        },
        "id": "ipTJfsOQmSf_",
        "outputId": "bdc79f55-00bf-459f-8eac-574d85b19fd6"
      },
      "source": [
        "data = pd.DataFrame(data = np.random.randn(6,5),\n",
        "                    index = [1,2,3,4,5,6],\n",
        "                    columns = ['a', 'b', 'c', 'd', 'e'])\n",
        "\n",
        "print(data) # Retorna todo o DataFrame inicial\n",
        "\n",
        "data = pd.melt(data) # Transforma linhas em colunas e vice-versa\n",
        "\n",
        "print(data)\n"
      ],
      "execution_count": null,
      "outputs": [
        {
          "output_type": "stream",
          "text": [
            "          a         b         c         d         e\n",
            "1 -0.290964  0.830812 -1.412909 -0.414070  1.075445\n",
            "2  1.341879  0.878129  0.341998  0.895333  0.720504\n",
            "3  0.223654  1.324789 -1.844739  1.422179  0.611117\n",
            "4 -1.840032 -1.365422 -0.249960  0.436028  1.621377\n",
            "5 -0.446507 -0.359948 -0.374418 -0.663777  0.970123\n",
            "6  0.537361  1.506146 -0.391321  1.262124  1.163186\n",
            "   variable     value\n",
            "0         a -0.290964\n",
            "1         a  1.341879\n",
            "2         a  0.223654\n",
            "3         a -1.840032\n",
            "4         a -0.446507\n",
            "5         a  0.537361\n",
            "6         b  0.830812\n",
            "7         b  0.878129\n",
            "8         b  1.324789\n",
            "9         b -1.365422\n",
            "10        b -0.359948\n",
            "11        b  1.506146\n",
            "12        c -1.412909\n",
            "13        c  0.341998\n",
            "14        c -1.844739\n",
            "15        c -0.249960\n",
            "16        c -0.374418\n",
            "17        c -0.391321\n",
            "18        d -0.414070\n",
            "19        d  0.895333\n",
            "20        d  1.422179\n",
            "21        d  0.436028\n",
            "22        d -0.663777\n",
            "23        d  1.262124\n",
            "24        e  1.075445\n",
            "25        e  0.720504\n",
            "26        e  0.611117\n",
            "27        e  1.621377\n",
            "28        e  0.970123\n",
            "29        e  1.163186\n"
          ],
          "name": "stdout"
        }
      ]
    },
    {
      "cell_type": "markdown",
      "metadata": {
        "id": "5X5DkHG2r_oa"
      },
      "source": [
        "Concatenando dados de dois DataFrames"
      ]
    },
    {
      "cell_type": "code",
      "metadata": {
        "colab": {
          "base_uri": "https://localhost:8080/"
        },
        "id": "sBzbyybFohXU",
        "outputId": "7aeb635d-42da-4d11-e81d-05c1a35bcc39"
      },
      "source": [
        "loja1 = {'Vendedor': ['Ana', 'Paulo', 'Maria', 'Miguel', 'Rafael', 'Ana'],\n",
        "        'Item': ['Camisa Nike', 'Tênis Adidas', 'Camisa Nike',\n",
        "                 'Meias Speedo', 'Tênis Nike', 'Camisa Nike'],\n",
        "        'Valor': [109.90, 299.00, 115.90, 24.99, 289.90, 99.90]}\n",
        "\n",
        "loja2 = {'Vendedor': ['Ana', 'Fernando', 'Carlos', 'Carlos', 'Carlos', 'Tânia'],\n",
        "        'Item': ['Camisa Fila', 'Camisa Adidas', 'Camisa Nike',\n",
        "                 'Camisa Nike', 'Camisa Fila', 'Tênis Mizuno'],\n",
        "        'Valor': [109.90, 99.00, 115.90, 109.99, 89.90, 199.90]}\n",
        "\n",
        "data1 = pd.DataFrame(loja1, index = [1,2,3,4,5,6])\n",
        "data2 = pd.DataFrame(loja2, index = [7,8,9,10,11,12])\n",
        "\n",
        "print(data1)\n",
        "print(data2)\n"
      ],
      "execution_count": null,
      "outputs": [
        {
          "output_type": "stream",
          "text": [
            "  Vendedor          Item   Valor\n",
            "1      Ana   Camisa Nike  109.90\n",
            "2    Paulo  Tênis Adidas  299.00\n",
            "3    Maria   Camisa Nike  115.90\n",
            "4   Miguel  Meias Speedo   24.99\n",
            "5   Rafael    Tênis Nike  289.90\n",
            "6      Ana   Camisa Nike   99.90\n",
            "    Vendedor           Item   Valor\n",
            "7        Ana    Camisa Fila  109.90\n",
            "8   Fernando  Camisa Adidas   99.00\n",
            "9     Carlos    Camisa Nike  115.90\n",
            "10    Carlos    Camisa Nike  109.99\n",
            "11    Carlos    Camisa Fila   89.90\n",
            "12     Tânia   Tênis Mizuno  199.90\n"
          ],
          "name": "stdout"
        }
      ]
    },
    {
      "cell_type": "code",
      "metadata": {
        "colab": {
          "base_uri": "https://localhost:8080/"
        },
        "id": "na-XD3VBsCU5",
        "outputId": "6ba902ec-3b71-439d-d535-502627326cb8"
      },
      "source": [
        "lojas = pd.concat([data1, data2]) # Irá concatenar os dados dos dois dataframes de origem, sem sobrepor nenhum elemento, pois o segundo dataframe será adicionado logo após o fim do primeiro e assim por diante\n",
        "\n",
        "print(lojas)\n"
      ],
      "execution_count": null,
      "outputs": [
        {
          "output_type": "stream",
          "text": [
            "    Vendedor           Item   Valor\n",
            "1        Ana    Camisa Nike  109.90\n",
            "2      Paulo   Tênis Adidas  299.00\n",
            "3      Maria    Camisa Nike  115.90\n",
            "4     Miguel   Meias Speedo   24.99\n",
            "5     Rafael     Tênis Nike  289.90\n",
            "6        Ana    Camisa Nike   99.90\n",
            "7        Ana    Camisa Fila  109.90\n",
            "8   Fernando  Camisa Adidas   99.00\n",
            "9     Carlos    Camisa Nike  115.90\n",
            "10    Carlos    Camisa Nike  109.99\n",
            "11    Carlos    Camisa Fila   89.90\n",
            "12     Tânia   Tênis Mizuno  199.90\n"
          ],
          "name": "stdout"
        }
      ]
    },
    {
      "cell_type": "code",
      "metadata": {
        "colab": {
          "base_uri": "https://localhost:8080/"
        },
        "id": "OUQ6zDJSsCXD",
        "outputId": "428f9875-ad40-4796-93b4-73645c9b6b89"
      },
      "source": [
        "lojas = pd.concat([data1, data2], axis = 1) # Irá concatenar os dados dos dois dataframes de origem, sem sobrepor nenhum elemento, porém o parâmetro axis = 1 define que a concatenação deverá ocorrer de acordo com os valores de índices (das linhas), dessa forma, gerando um dataframe com campos vazios de acordo com a estrutura dos dataframes originais\n",
        "\n",
        "print(lojas)\n"
      ],
      "execution_count": null,
      "outputs": [
        {
          "output_type": "stream",
          "text": [
            "   Vendedor          Item   Valor  Vendedor           Item   Valor\n",
            "1       Ana   Camisa Nike  109.90       NaN            NaN     NaN\n",
            "2     Paulo  Tênis Adidas  299.00       NaN            NaN     NaN\n",
            "3     Maria   Camisa Nike  115.90       NaN            NaN     NaN\n",
            "4    Miguel  Meias Speedo   24.99       NaN            NaN     NaN\n",
            "5    Rafael    Tênis Nike  289.90       NaN            NaN     NaN\n",
            "6       Ana   Camisa Nike   99.90       NaN            NaN     NaN\n",
            "7       NaN           NaN     NaN       Ana    Camisa Fila  109.90\n",
            "8       NaN           NaN     NaN  Fernando  Camisa Adidas   99.00\n",
            "9       NaN           NaN     NaN    Carlos    Camisa Nike  115.90\n",
            "10      NaN           NaN     NaN    Carlos    Camisa Nike  109.99\n",
            "11      NaN           NaN     NaN    Carlos    Camisa Fila   89.90\n",
            "12      NaN           NaN     NaN     Tânia   Tênis Mizuno  199.90\n"
          ],
          "name": "stdout"
        }
      ]
    },
    {
      "cell_type": "markdown",
      "metadata": {
        "id": "0waFDED1wDo7"
      },
      "source": [
        "Mesclando dados de dois dataframes"
      ]
    },
    {
      "cell_type": "code",
      "metadata": {
        "colab": {
          "base_uri": "https://localhost:8080/"
        },
        "id": "4hm_fszysCZg",
        "outputId": "221e55d5-9904-4571-f151-b7bfdaadf1be"
      },
      "source": [
        "import pandas as pd\n",
        "\n",
        "loja1 = {'Vendedor': ['Ana', 'Paulo', 'Maria',\n",
        "                      'Miguel', 'Rafael', 'Ana'],\n",
        "        'Item': ['Camisa Nike', 'Tênis Adidas',\n",
        "                 'Camisa Nike', 'Meias Speedo',\n",
        "                 'Tênis Nike', 'Camisa Nike'],\n",
        "        'Valor': [109.90, 299.00, 115.90,\n",
        "                  24.99, 289.90, 99.90]}\n",
        "\n",
        "loja2 = {'Vendedor': ['Ana', 'Fernando', 'Carlos',\n",
        "                      'Carlos', 'Carlos', 'Tânia'],\n",
        "        'Item': ['Camisa Fila', 'Camisa Adidas',\n",
        "                 'Camisa Nike', 'Camisa Nike',\n",
        "                 'Camisa Fila', 'Tênis Mizuno'],\n",
        "        'Valor': [109.90, 99.00, 115.90,\n",
        "                  109.99, 89.90, 199.90]}\n",
        "\n",
        "data1 = pd.DataFrame(loja1, index = [1,2,3,4,5,6])\n",
        "data2 = pd.DataFrame(loja2, index = [7,8,9,10,11,12])\n",
        "\n",
        "print(data1)\n",
        "print(data2)\n"
      ],
      "execution_count": null,
      "outputs": [
        {
          "output_type": "stream",
          "text": [
            "  Vendedor          Item   Valor\n",
            "1      Ana   Camisa Nike  109.90\n",
            "2    Paulo  Tênis Adidas  299.00\n",
            "3    Maria   Camisa Nike  115.90\n",
            "4   Miguel  Meias Speedo   24.99\n",
            "5   Rafael    Tênis Nike  289.90\n",
            "6      Ana   Camisa Nike   99.90\n",
            "    Vendedor           Item   Valor\n",
            "7        Ana    Camisa Fila  109.90\n",
            "8   Fernando  Camisa Adidas   99.00\n",
            "9     Carlos    Camisa Nike  115.90\n",
            "10    Carlos    Camisa Nike  109.99\n",
            "11    Carlos    Camisa Fila   89.90\n",
            "12     Tânia   Tênis Mizuno  199.90\n"
          ],
          "name": "stdout"
        }
      ]
    },
    {
      "cell_type": "code",
      "metadata": {
        "colab": {
          "base_uri": "https://localhost:8080/"
        },
        "id": "0BWOPk9JsCbh",
        "outputId": "a75c03da-8ac6-4a77-834b-95d4b799e2ba"
      },
      "source": [
        "lojas2 = pd.merge(data1, data2)\n",
        "\n",
        "print(lojas2)\n"
      ],
      "execution_count": null,
      "outputs": [
        {
          "output_type": "stream",
          "text": [
            "Empty DataFrame\n",
            "Columns: [Vendedor, Item, Valor]\n",
            "Index: []\n"
          ],
          "name": "stdout"
        }
      ]
    },
    {
      "cell_type": "code",
      "metadata": {
        "colab": {
          "base_uri": "https://localhost:8080/"
        },
        "id": "7A_7Jpk1sCeb",
        "outputId": "532376c5-348c-4b8a-df94-42d2b0305d39"
      },
      "source": [
        "lojas2 = pd.merge(data1, data2, how = 'inner', on = 'Item')\n",
        "\n",
        "print(lojas2)\n"
      ],
      "execution_count": null,
      "outputs": [
        {
          "output_type": "stream",
          "text": [
            "  Vendedor_x         Item  Valor_x Vendedor_y  Valor_y\n",
            "0        Ana  Camisa Nike    109.9     Carlos   115.90\n",
            "1        Ana  Camisa Nike    109.9     Carlos   109.99\n",
            "2      Maria  Camisa Nike    115.9     Carlos   115.90\n",
            "3      Maria  Camisa Nike    115.9     Carlos   109.99\n",
            "4        Ana  Camisa Nike     99.9     Carlos   115.90\n",
            "5        Ana  Camisa Nike     99.9     Carlos   109.99\n"
          ],
          "name": "stdout"
        }
      ]
    },
    {
      "cell_type": "code",
      "metadata": {
        "colab": {
          "base_uri": "https://localhost:8080/"
        },
        "id": "NBSdd_PgyVrD",
        "outputId": "e1a60e98-75dc-4474-d471-aa3081eb05c0"
      },
      "source": [
        "lojas2 = pd.merge(data1, data2, how = 'outer', on = 'Item')\n",
        "\n",
        "print(lojas2)\n"
      ],
      "execution_count": null,
      "outputs": [
        {
          "output_type": "stream",
          "text": [
            "   Vendedor_x           Item  Valor_x Vendedor_y  Valor_y\n",
            "0         Ana    Camisa Nike   109.90     Carlos   115.90\n",
            "1         Ana    Camisa Nike   109.90     Carlos   109.99\n",
            "2       Maria    Camisa Nike   115.90     Carlos   115.90\n",
            "3       Maria    Camisa Nike   115.90     Carlos   109.99\n",
            "4         Ana    Camisa Nike    99.90     Carlos   115.90\n",
            "5         Ana    Camisa Nike    99.90     Carlos   109.99\n",
            "6       Paulo   Tênis Adidas   299.00        NaN      NaN\n",
            "7      Miguel   Meias Speedo    24.99        NaN      NaN\n",
            "8      Rafael     Tênis Nike   289.90        NaN      NaN\n",
            "9         NaN    Camisa Fila      NaN        Ana   109.90\n",
            "10        NaN    Camisa Fila      NaN     Carlos    89.90\n",
            "11        NaN  Camisa Adidas      NaN   Fernando    99.00\n",
            "12        NaN   Tênis Mizuno      NaN      Tânia   199.90\n"
          ],
          "name": "stdout"
        }
      ]
    },
    {
      "cell_type": "code",
      "metadata": {
        "colab": {
          "base_uri": "https://localhost:8080/"
        },
        "id": "GV7Te0KiycRw",
        "outputId": "87dd7aa3-63a8-4841-834f-a735594c9cdb"
      },
      "source": [
        "lojas2 = pd.merge(data1, data2, how = 'right', on = 'Item')\n",
        "\n",
        "print(lojas2)\n"
      ],
      "execution_count": null,
      "outputs": [
        {
          "output_type": "stream",
          "text": [
            "  Vendedor_x           Item  Valor_x Vendedor_y  Valor_y\n",
            "0        NaN    Camisa Fila      NaN        Ana   109.90\n",
            "1        NaN    Camisa Fila      NaN     Carlos    89.90\n",
            "2        NaN  Camisa Adidas      NaN   Fernando    99.00\n",
            "3        Ana    Camisa Nike    109.9     Carlos   115.90\n",
            "4      Maria    Camisa Nike    115.9     Carlos   115.90\n",
            "5        Ana    Camisa Nike     99.9     Carlos   115.90\n",
            "6        Ana    Camisa Nike    109.9     Carlos   109.99\n",
            "7      Maria    Camisa Nike    115.9     Carlos   109.99\n",
            "8        Ana    Camisa Nike     99.9     Carlos   109.99\n",
            "9        NaN   Tênis Mizuno      NaN      Tânia   199.90\n"
          ],
          "name": "stdout"
        }
      ]
    },
    {
      "cell_type": "code",
      "metadata": {
        "colab": {
          "base_uri": "https://localhost:8080/"
        },
        "id": "2fd1yLyNyjm4",
        "outputId": "b1c3d926-66cd-4e36-b5fc-1ec588166a51"
      },
      "source": [
        "lojas2 = pd.merge(data1, data2, how = 'left', on = 'Item')\n",
        "\n",
        "print(lojas2)\n"
      ],
      "execution_count": null,
      "outputs": [
        {
          "output_type": "stream",
          "text": [
            "  Vendedor_x          Item  Valor_x Vendedor_y  Valor_y\n",
            "0        Ana   Camisa Nike   109.90     Carlos   115.90\n",
            "1        Ana   Camisa Nike   109.90     Carlos   109.99\n",
            "2      Paulo  Tênis Adidas   299.00        NaN      NaN\n",
            "3      Maria   Camisa Nike   115.90     Carlos   115.90\n",
            "4      Maria   Camisa Nike   115.90     Carlos   109.99\n",
            "5     Miguel  Meias Speedo    24.99        NaN      NaN\n",
            "6     Rafael    Tênis Nike   289.90        NaN      NaN\n",
            "7        Ana   Camisa Nike    99.90     Carlos   115.90\n",
            "8        Ana   Camisa Nike    99.90     Carlos   109.99\n"
          ],
          "name": "stdout"
        }
      ]
    },
    {
      "cell_type": "code",
      "metadata": {
        "colab": {
          "base_uri": "https://localhost:8080/"
        },
        "id": "qF_QlC9pohZx",
        "outputId": "44617c63-8e10-41f2-c4d6-bd123b43f703"
      },
      "source": [
        "lojas2 = pd.merge(data1, data2, on = ['Item', 'Valor'])\n",
        "\n",
        "print(lojas2)\n"
      ],
      "execution_count": null,
      "outputs": [
        {
          "output_type": "stream",
          "text": [
            "  Vendedor_x         Item  Valor Vendedor_y\n",
            "0      Maria  Camisa Nike  115.9     Carlos\n"
          ],
          "name": "stdout"
        }
      ]
    },
    {
      "cell_type": "markdown",
      "metadata": {
        "id": "2e4qTqwoytK_"
      },
      "source": [
        "Juntando dados de dois dataframes"
      ]
    },
    {
      "cell_type": "code",
      "metadata": {
        "colab": {
          "base_uri": "https://localhost:8080/"
        },
        "id": "9LFwHsv9yvM_",
        "outputId": "039ff76b-a11f-423f-e61e-ac18e6caa6bd"
      },
      "source": [
        "loja1 = {'Vendedor1': ['Ana', 'Paulo', 'Maria',\n",
        "                       'Miguel', 'Rafael', 'Ana'],\n",
        "        'Item1': ['Camisa Nike', 'Tênis Adidas', 'Camisa Nike',\n",
        "                  'Meias Speedo', 'Tênis Nike', 'Camisa Nike'],\n",
        "        'Valor1': [109.90, 299.00, 115.90,\n",
        "                   24.99, 289.90, 99.90]}\n",
        "\n",
        "loja2 = {'Vendedor2': ['Ana', 'Fernando', 'Carlos',\n",
        "                       'Carlos', 'Carlos', 'Tânia'],\n",
        "        'Item2': ['Camisa Fila', 'Camisa Adidas', 'Camisa Nike',\n",
        "                  'Camisa Nike', 'Camisa Fila', 'Tênis Mizuno'],\n",
        "        'Valor2': [109.90, 99.00, 115.90,\n",
        "                   109.99, 89.90, 199.90]}\n",
        "\n",
        "data1 = pd.DataFrame(loja1, index = [1,2,3,4,5,6])\n",
        "data2 = pd.DataFrame(loja2, index = [1,3,5,7,9,11])\n",
        "\n",
        "print(data1)\n",
        "print(data2)\n"
      ],
      "execution_count": null,
      "outputs": [
        {
          "output_type": "stream",
          "text": [
            "  Vendedor1         Item1  Valor1\n",
            "1       Ana   Camisa Nike  109.90\n",
            "2     Paulo  Tênis Adidas  299.00\n",
            "3     Maria   Camisa Nike  115.90\n",
            "4    Miguel  Meias Speedo   24.99\n",
            "5    Rafael    Tênis Nike  289.90\n",
            "6       Ana   Camisa Nike   99.90\n",
            "   Vendedor2          Item2  Valor2\n",
            "1        Ana    Camisa Fila  109.90\n",
            "3   Fernando  Camisa Adidas   99.00\n",
            "5     Carlos    Camisa Nike  115.90\n",
            "7     Carlos    Camisa Nike  109.99\n",
            "9     Carlos    Camisa Fila   89.90\n",
            "11     Tânia   Tênis Mizuno  199.90\n"
          ],
          "name": "stdout"
        }
      ]
    },
    {
      "cell_type": "code",
      "metadata": {
        "colab": {
          "base_uri": "https://localhost:8080/"
        },
        "id": "krmo4_ElyvPO",
        "outputId": "f04098c0-c9a9-4f7e-8e28-7a472bc62e78"
      },
      "source": [
        "data3 = data1.join(data2) # Lembrando que aqui estamos agregando os dados do dataframe 2 aos dados do dataframe 1 que é o referencia, de modo que estaremos agregando os elementos que tiverem o mesmo indice entre os dataframes\n",
        "\n",
        "print(data3)\n"
      ],
      "execution_count": null,
      "outputs": [
        {
          "output_type": "stream",
          "text": [
            "  Vendedor1         Item1  Valor1 Vendedor2          Item2  Valor2\n",
            "1       Ana   Camisa Nike  109.90       Ana    Camisa Fila   109.9\n",
            "2     Paulo  Tênis Adidas  299.00       NaN            NaN     NaN\n",
            "3     Maria   Camisa Nike  115.90  Fernando  Camisa Adidas    99.0\n",
            "4    Miguel  Meias Speedo   24.99       NaN            NaN     NaN\n",
            "5    Rafael    Tênis Nike  289.90    Carlos    Camisa Nike   115.9\n",
            "6       Ana   Camisa Nike   99.90       NaN            NaN     NaN\n"
          ],
          "name": "stdout"
        }
      ]
    },
    {
      "cell_type": "code",
      "metadata": {
        "colab": {
          "base_uri": "https://localhost:8080/"
        },
        "id": "vY4mF4cQC28y",
        "outputId": "fc80073c-46a7-4184-d57d-37137eb4e36d"
      },
      "source": [
        "data1 = pd.DataFrame(loja1, index = [1,2,3,4,5,6])\n",
        "data2 = pd.DataFrame(loja2, index = [7,8,9,10,11,12])\n",
        "\n",
        "data3 = data1.join(data2) \n",
        "\n",
        "print(data3)\n"
      ],
      "execution_count": null,
      "outputs": [
        {
          "output_type": "stream",
          "text": [
            "  Vendedor1         Item1  Valor1 Vendedor2 Item2  Valor2\n",
            "1       Ana   Camisa Nike  109.90       NaN   NaN     NaN\n",
            "2     Paulo  Tênis Adidas  299.00       NaN   NaN     NaN\n",
            "3     Maria   Camisa Nike  115.90       NaN   NaN     NaN\n",
            "4    Miguel  Meias Speedo   24.99       NaN   NaN     NaN\n",
            "5    Rafael    Tênis Nike  289.90       NaN   NaN     NaN\n",
            "6       Ana   Camisa Nike   99.90       NaN   NaN     NaN\n"
          ],
          "name": "stdout"
        }
      ]
    },
    {
      "cell_type": "code",
      "metadata": {
        "colab": {
          "base_uri": "https://localhost:8080/"
        },
        "id": "QUgw6TK9-rBE",
        "outputId": "889dca6c-923b-4e2c-8aad-89bdb37c3f2d"
      },
      "source": [
        "# Exibindo apenas elementos únicos de uma serie de um dataframe\n",
        "\n",
        "loja1 = {'Vendedor1': ['Ana', 'Paulo', 'Maria',\n",
        "                       'Miguel', 'Rafael', 'Ana'],\n",
        "        'Item1': ['Camisa Nike', 'Tênis Adidas', 'Camisa Nike',\n",
        "                  'Meias Speedo', 'Tênis Nike', 'Camisa Nike'],\n",
        "        'Valor1': [109.90, 299.00, 115.90,\n",
        "                   24.99, 289.90, 99.90]}\n",
        "\n",
        "loja1 = pd.DataFrame(loja1)\n",
        "\n",
        "print(loja1['Item1'].unique()) # Retornará apenas os elementos únicos de Item1\n",
        "print(loja1['Item1'].nunique()) # Retornará o números de elementos únicos de Item1\n"
      ],
      "execution_count": null,
      "outputs": [
        {
          "output_type": "stream",
          "text": [
            "['Camisa Nike' 'Tênis Adidas' 'Meias Speedo' 'Tênis Nike']\n",
            "4\n"
          ],
          "name": "stdout"
        }
      ]
    },
    {
      "cell_type": "code",
      "metadata": {
        "colab": {
          "base_uri": "https://localhost:8080/"
        },
        "id": "Kxdfu790-rDh",
        "outputId": "acbb5dd5-ca3d-4349-e455-83c8ad0d6a47"
      },
      "source": [
        "print(loja1['Item1'].value_counts()) # Retornará o número de ocorrências de um determinado elemento, classificando do de maior recorrência para o de menor\n"
      ],
      "execution_count": null,
      "outputs": [
        {
          "output_type": "stream",
          "text": [
            "Camisa Nike     3\n",
            "Meias Speedo    1\n",
            "Tênis Nike      1\n",
            "Tênis Adidas    1\n",
            "Name: Item1, dtype: int64\n"
          ],
          "name": "stdout"
        }
      ]
    }
  ]
}