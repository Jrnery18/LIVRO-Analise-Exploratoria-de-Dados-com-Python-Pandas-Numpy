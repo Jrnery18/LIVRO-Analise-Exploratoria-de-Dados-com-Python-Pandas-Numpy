{
  "nbformat": 4,
  "nbformat_minor": 0,
  "metadata": {
    "colab": {
      "name": "Numpy",
      "provenance": []
    },
    "kernelspec": {
      "name": "python3",
      "display_name": "Python 3"
    },
    "language_info": {
      "name": "python"
    }
  },
  "cells": [
    {
      "cell_type": "markdown",
      "metadata": {
        "id": "2Vwx20ykK8k1"
      },
      "source": [
        "# || Numpy ||"
      ]
    },
    {
      "cell_type": "markdown",
      "metadata": {
        "id": "OIhcQ4OuNjox"
      },
      "source": [
        "Instalando as dependências"
      ]
    },
    {
      "cell_type": "code",
      "metadata": {
        "id": "mwqMQ6cCNWKD",
        "colab": {
          "base_uri": "https://localhost:8080/",
          "height": 55
        },
        "outputId": "d1eaea62-ef4a-49be-ec53-597200c4aa20"
      },
      "source": [
        "!pip install numpy\n"
      ],
      "execution_count": null,
      "outputs": [
        {
          "output_type": "stream",
          "text": [
            "Requirement already satisfied: numpy in /usr/local/lib/python3.6/dist-packages (1.18.5)\n"
          ],
          "name": "stdout"
        }
      ]
    },
    {
      "cell_type": "markdown",
      "metadata": {
        "id": "wdLi9qP7NouN"
      },
      "source": [
        "Importando a biblioteca Numpy"
      ]
    },
    {
      "cell_type": "code",
      "metadata": {
        "id": "Sh-gnAT0NX5w"
      },
      "source": [
        "import numpy as np\n"
      ],
      "execution_count": null,
      "outputs": []
    },
    {
      "cell_type": "markdown",
      "metadata": {
        "id": "EcYNaNXhi25U"
      },
      "source": [
        "Criando uma Array Numpy"
      ]
    },
    {
      "cell_type": "code",
      "metadata": {
        "id": "yONoxzw4i5ll",
        "colab": {
          "base_uri": "https://localhost:8080/",
          "height": 72
        },
        "outputId": "6e5a1d30-be81-42bd-8abe-532d0c9805fb"
      },
      "source": [
        "data = np.array([2, 4, 6, 8, 10])\n",
        "\n",
        "print(data)\n",
        "print(type(data))\n",
        "print(data.shape)\n"
      ],
      "execution_count": null,
      "outputs": [
        {
          "output_type": "stream",
          "text": [
            "[ 2  4  6  8 10]\n",
            "<class 'numpy.ndarray'>\n",
            "(5,)\n"
          ],
          "name": "stdout"
        }
      ]
    },
    {
      "cell_type": "markdown",
      "metadata": {
        "id": "suojALuDXcpV"
      },
      "source": [
        "Criando automaticamente uma Array Numpy com dados ordenados"
      ]
    },
    {
      "cell_type": "code",
      "metadata": {
        "id": "h4l0EjbYXhL4",
        "colab": {
          "base_uri": "https://localhost:8080/",
          "height": 35
        },
        "outputId": "00ed5b4b-c7e7-4154-ad3c-f6e5eec604f9"
      },
      "source": [
        "data = np.arange(15)\n",
        "\n",
        "print(data)\n"
      ],
      "execution_count": null,
      "outputs": [
        {
          "output_type": "stream",
          "text": [
            "[ 0  1  2  3  4  5  6  7  8  9 10 11 12 13 14]\n"
          ],
          "name": "stdout"
        }
      ]
    },
    {
      "cell_type": "markdown",
      "metadata": {
        "id": "BAg2ndrvXpNW"
      },
      "source": [
        "Criando automaticamente uma Array Numpy com dados aleatórios (float entre 0 e 1)"
      ]
    },
    {
      "cell_type": "code",
      "metadata": {
        "id": "oIVOZCklXsbR",
        "colab": {
          "base_uri": "https://localhost:8080/",
          "height": 72
        },
        "outputId": "11c2697a-a5fb-4a64-b1e6-00af0ca6ef21"
      },
      "source": [
        "data = np.random.rand(15)\n",
        "\n",
        "print(data)\n"
      ],
      "execution_count": null,
      "outputs": [
        {
          "output_type": "stream",
          "text": [
            "[0.46767506 0.33941593 0.24069971 0.14360643 0.69268799 0.98486848\n",
            " 0.13006424 0.27738541 0.90083945 0.69435152 0.00873169 0.238581\n",
            " 0.80114636 0.94970789 0.37813807]\n"
          ],
          "name": "stdout"
        }
      ]
    },
    {
      "cell_type": "markdown",
      "metadata": {
        "id": "OTDLOoe8Ytom"
      },
      "source": [
        "Criando uma Array Numpy com dados aleatórios (int entre 0 e o valor definido)"
      ]
    },
    {
      "cell_type": "code",
      "metadata": {
        "id": "3MplXf7EY1tA",
        "colab": {
          "base_uri": "https://localhost:8080/",
          "height": 35
        },
        "outputId": "5becc020-fc26-4d70-92b3-406975e6b094"
      },
      "source": [
        "data = np.random.randint(10, size = 10)\n",
        "# números de 0 a 10, size define quantos elementos serão gerados\n",
        "\n",
        "print(data)\n"
      ],
      "execution_count": null,
      "outputs": [
        {
          "output_type": "stream",
          "text": [
            "[5 9 3 3 0 6 9 1 6 3]\n"
          ],
          "name": "stdout"
        }
      ]
    },
    {
      "cell_type": "markdown",
      "metadata": {
        "id": "VqNEk1xtW3Y-"
      },
      "source": [
        "Criando uma Array Numpy com dados aleatórios (float entre 0 e 1)"
      ]
    },
    {
      "cell_type": "code",
      "metadata": {
        "id": "gXiozdYMW7z9",
        "colab": {
          "base_uri": "https://localhost:8080/",
          "height": 54
        },
        "outputId": "4ab01dbc-d080-41a1-d726-58c24f952a3f"
      },
      "source": [
        "data = np.random.random((2, 2))\n",
        "\n",
        "print(data)\n"
      ],
      "execution_count": null,
      "outputs": [
        {
          "output_type": "stream",
          "text": [
            "[[0.3105231  0.46127506]\n",
            " [0.25691878 0.31584648]]\n"
          ],
          "name": "stdout"
        }
      ]
    },
    {
      "cell_type": "markdown",
      "metadata": {
        "id": "xFUPNRUz-PHz"
      },
      "source": [
        "Criando uma Array Numpy de zeros"
      ]
    },
    {
      "cell_type": "code",
      "metadata": {
        "id": "59Epu1Wr-SbH",
        "colab": {
          "base_uri": "https://localhost:8080/",
          "height": 72
        },
        "outputId": "e0037736-9fea-4af4-8d8f-6fac3a6105ad"
      },
      "source": [
        "data = np.zeros((3, 4))\n",
        "# 3 linhas e 4 colunas\n",
        "\n",
        "print(data)\n"
      ],
      "execution_count": null,
      "outputs": [
        {
          "output_type": "stream",
          "text": [
            "[[0. 0. 0. 0.]\n",
            " [0. 0. 0. 0.]\n",
            " [0. 0. 0. 0.]]\n"
          ],
          "name": "stdout"
        }
      ]
    },
    {
      "cell_type": "markdown",
      "metadata": {
        "id": "ot26cy6U-j2R"
      },
      "source": [
        "O mesmo também pode ser feito com números 1"
      ]
    },
    {
      "cell_type": "code",
      "metadata": {
        "id": "ak38GZ7P-m_x",
        "colab": {
          "base_uri": "https://localhost:8080/",
          "height": 72
        },
        "outputId": "c6b69ac1-ec35-44ed-dee8-502ac4fadad4"
      },
      "source": [
        "data = np.ones((3, 4))\n",
        "# 3 linhas e 4 colunas\n",
        "\n",
        "print(data)\n"
      ],
      "execution_count": null,
      "outputs": [
        {
          "output_type": "stream",
          "text": [
            "[[1. 1. 1. 1.]\n",
            " [1. 1. 1. 1.]\n",
            " [1. 1. 1. 1.]]\n"
          ],
          "name": "stdout"
        }
      ]
    },
    {
      "cell_type": "markdown",
      "metadata": {
        "id": "A-iiwNu0o55P"
      },
      "source": [
        "Criando uma Array Numpy com valores vazios (em notação científica, significando ser menor que 0)"
      ]
    },
    {
      "cell_type": "code",
      "metadata": {
        "id": "c1Ad0h42pEwt",
        "colab": {
          "base_uri": "https://localhost:8080/",
          "height": 127
        },
        "outputId": "72f8311f-cde8-4cbf-e9ba-86e8b6f3a339"
      },
      "source": [
        "data = np.empty((3, 4))\n",
        "\n",
        "print(data)\n"
      ],
      "execution_count": null,
      "outputs": [
        {
          "output_type": "stream",
          "text": [
            "[[1. 0. 0.]\n",
            " [0. 1. 0.]\n",
            " [0. 0. 1.]]\n",
            "[[2.85964880e-316 2.88902396e-316 3.95252517e-323 2.88902396e-316]\n",
            " [3.95252517e-323 2.88902396e-316 2.79437377e+276 0.00000000e+000]\n",
            " [2.88904926e-316 2.88904926e-316 2.88904926e-316 0.00000000e+000]]\n"
          ],
          "name": "stdout"
        }
      ]
    },
    {
      "cell_type": "markdown",
      "metadata": {
        "id": "UInsxKaICPja"
      },
      "source": [
        "Criando uma Array Numpy de números negativos"
      ]
    },
    {
      "cell_type": "code",
      "metadata": {
        "id": "LKbajrtACXLx",
        "colab": {
          "base_uri": "https://localhost:8080/",
          "height": 35
        },
        "outputId": "1ed59eed-cda6-4fc7-a1cf-94f068bc241b"
      },
      "source": [
        "data = np.arange(10) * -1\n",
        "\n",
        "print(data)\n"
      ],
      "execution_count": null,
      "outputs": [
        {
          "output_type": "stream",
          "text": [
            "[ 0 -1 -2 -3 -4 -5 -6 -7 -8 -9]\n"
          ],
          "name": "stdout"
        }
      ]
    },
    {
      "cell_type": "markdown",
      "metadata": {
        "id": "4uj_Bi4CNr8-"
      },
      "source": [
        "Criando uma Array Numpy unidimensional"
      ]
    },
    {
      "cell_type": "code",
      "metadata": {
        "id": "ZM0LEqXdNX8t",
        "colab": {
          "base_uri": "https://localhost:8080/",
          "height": 54
        },
        "outputId": "14778b05-3573-4a02-dcff-739b6f3833cc"
      },
      "source": [
        "data = np.random.randint(5, size = 10)\n",
        "# números de 0 a 5, size define quantos elementos serão gerados\n",
        "\n",
        "print(data)\n",
        "print(data.shape)\n"
      ],
      "execution_count": null,
      "outputs": [
        {
          "output_type": "stream",
          "text": [
            "[4 4 1 2 3 3 1 2 3 0]\n",
            "(10,)\n"
          ],
          "name": "stdout"
        }
      ]
    },
    {
      "cell_type": "markdown",
      "metadata": {
        "id": "aVIFWO-6Ob-_"
      },
      "source": [
        "Criando uma Array Numpy bidimensional"
      ]
    },
    {
      "cell_type": "code",
      "metadata": {
        "id": "tfNvjQNHNX_D",
        "colab": {
          "base_uri": "https://localhost:8080/",
          "height": 90
        },
        "outputId": "325c5c9d-c9c8-480f-97b9-6e561d81d44c"
      },
      "source": [
        "data2 = np.random.randint(5, size = (3, 4))\n",
        "# números de 0 a 5, distribuidos em 3 linhas e 4 colunas\n",
        "\n",
        "print(data2)\n",
        "print(data2.shape)\n"
      ],
      "execution_count": null,
      "outputs": [
        {
          "output_type": "stream",
          "text": [
            "[[2 0 3 2]\n",
            " [0 4 2 1]\n",
            " [3 0 1 0]]\n",
            "(3, 4)\n"
          ],
          "name": "stdout"
        }
      ]
    },
    {
      "cell_type": "markdown",
      "metadata": {
        "id": "DTqMmn96Sinm"
      },
      "source": [
        "Criando uma Array Numpy tridimensional"
      ]
    },
    {
      "cell_type": "code",
      "metadata": {
        "id": "gTet1gWENYBp",
        "colab": {
          "base_uri": "https://localhost:8080/",
          "height": 384
        },
        "outputId": "3b370fad-b5e9-497b-f001-67342dab956e"
      },
      "source": [
        "data3 = np.random.randint(5, size = (5, 3, 4))\n",
        "# números de 0 a 5, 5 camadas cada uma com 3 linhas e 4 colunas\n",
        "\n",
        "print(data3)\n",
        "print(data3.shape)\n"
      ],
      "execution_count": null,
      "outputs": [
        {
          "output_type": "stream",
          "text": [
            "[[[0 2 4 4]\n",
            "  [0 1 1 2]\n",
            "  [1 2 2 0]]\n",
            "\n",
            " [[1 4 4 3]\n",
            "  [0 4 3 3]\n",
            "  [1 1 2 4]]\n",
            "\n",
            " [[2 1 1 2]\n",
            "  [1 1 3 2]\n",
            "  [3 0 2 4]]\n",
            "\n",
            " [[2 4 1 3]\n",
            "  [0 0 3 4]\n",
            "  [0 4 3 0]]\n",
            "\n",
            " [[2 2 3 3]\n",
            "  [1 4 4 3]\n",
            "  [2 0 3 3]]]\n",
            "(5, 3, 4)\n"
          ],
          "name": "stdout"
        }
      ]
    },
    {
      "cell_type": "markdown",
      "metadata": {
        "id": "gg4m5W9Ru7Gm"
      },
      "source": [
        "Convertendo uma array multidimensional para unidimensional"
      ]
    },
    {
      "cell_type": "code",
      "metadata": {
        "id": "RUKBusUQqkTQ",
        "colab": {
          "base_uri": "https://localhost:8080/",
          "height": 72
        },
        "outputId": "eef04586-000d-4798-84a5-64c1dfc63d14"
      },
      "source": [
        "data4 = np.array([(1,2,3,4),(3,1,4,2)])\n",
        "\n",
        "print(data4)\n",
        "\n",
        "data4_flat = data4.flatten()\n",
        "\n",
        "print(data4_flat)\n"
      ],
      "execution_count": null,
      "outputs": [
        {
          "output_type": "stream",
          "text": [
            "[[1 2 3 4]\n",
            " [3 1 4 2]]\n",
            "[1 2 3 4 3 1 4 2]\n"
          ],
          "name": "stdout"
        }
      ]
    },
    {
      "cell_type": "markdown",
      "metadata": {
        "id": "ZSmlQGs6nwo4"
      },
      "source": [
        "Criando manualmente uma Array a partir de listas"
      ]
    },
    {
      "cell_type": "code",
      "metadata": {
        "id": "GZKaDlwHn0NX",
        "colab": {
          "base_uri": "https://localhost:8080/",
          "height": 54
        },
        "outputId": "97ffee40-6e37-4dd0-a035-796becdccea6"
      },
      "source": [
        "data4 = np.array([[1, 2, 3, 4], [1, 3, 5, 7]])\n",
        "\n",
        "print(data4)\n"
      ],
      "execution_count": null,
      "outputs": [
        {
          "output_type": "stream",
          "text": [
            "[[1 2 3 4]\n",
            " [1 3 5 7]]\n"
          ],
          "name": "stdout"
        }
      ]
    },
    {
      "cell_type": "markdown",
      "metadata": {
        "id": "XroxoDvFUCYE"
      },
      "source": [
        "Verificando o tipo de dado"
      ]
    },
    {
      "cell_type": "code",
      "metadata": {
        "id": "dfkFfDkWUEuL",
        "colab": {
          "base_uri": "https://localhost:8080/",
          "height": 54
        },
        "outputId": "cc04712d-f5e5-4097-b672-c7d13a5cd51d"
      },
      "source": [
        "print(type(data3))\n",
        "print(data3.dtype)\n"
      ],
      "execution_count": null,
      "outputs": [
        {
          "output_type": "stream",
          "text": [
            "<class 'numpy.ndarray'>\n",
            "int64\n"
          ],
          "name": "stdout"
        }
      ]
    },
    {
      "cell_type": "markdown",
      "metadata": {
        "id": "EcZdVMIIUQmO"
      },
      "source": [
        "Verificando o tamanho da matriz"
      ]
    },
    {
      "cell_type": "code",
      "metadata": {
        "id": "HLxaChrfSn7y",
        "colab": {
          "base_uri": "https://localhost:8080/",
          "height": 72
        },
        "outputId": "af619efb-4f24-4714-c51a-f1dba82f505c"
      },
      "source": [
        "data3 = np.random.randint(5, size = (5, 3, 4))\n",
        "\n",
        "print(data3.ndim)\n",
        "# número de dimensões\n",
        "\n",
        "print(data3.shape)\n",
        "# formato de cada dimensão\n",
        "\n",
        "print(data3.size)\n",
        "# tamanho total da matriz\n"
      ],
      "execution_count": null,
      "outputs": [
        {
          "output_type": "stream",
          "text": [
            "3\n",
            "(5, 3, 4)\n",
            "60\n"
          ],
          "name": "stdout"
        }
      ]
    },
    {
      "cell_type": "markdown",
      "metadata": {
        "id": "Umcy-glDUcI6"
      },
      "source": [
        "Verificando o tamanho em bytes de cada item e de toda a matriz"
      ]
    },
    {
      "cell_type": "code",
      "metadata": {
        "id": "UlNY0zA_Sn-t",
        "colab": {
          "base_uri": "https://localhost:8080/",
          "height": 54
        },
        "outputId": "814981cb-6b78-4663-808b-32c680f0cfc5"
      },
      "source": [
        "print(f'Cada elemento possui {data3.itemsize} bytes')\n",
        "print(f'Toda a matriz possui {data3.nbytes} bytes')\n"
      ],
      "execution_count": null,
      "outputs": [
        {
          "output_type": "stream",
          "text": [
            "Cada elemento possui 8 bytes\n",
            "Toda a matriz possui 480 bytes\n"
          ],
          "name": "stdout"
        }
      ]
    },
    {
      "cell_type": "markdown",
      "metadata": {
        "id": "iUpzIuvqiLZj"
      },
      "source": [
        "Consultando o elemento de maior valor da Array"
      ]
    },
    {
      "cell_type": "code",
      "metadata": {
        "id": "BJtmiQ2CiPr7",
        "colab": {
          "base_uri": "https://localhost:8080/",
          "height": 54
        },
        "outputId": "3c65a57b-31cd-48d9-e585-47b70ff71dad"
      },
      "source": [
        "data = np.arange(15)\n",
        "\n",
        "print(data)\n",
        "print(data.max())\n"
      ],
      "execution_count": null,
      "outputs": [
        {
          "output_type": "stream",
          "text": [
            "[ 0  1  2  3  4  5  6  7  8  9 10 11 12 13 14]\n",
            "14\n"
          ],
          "name": "stdout"
        }
      ]
    },
    {
      "cell_type": "markdown",
      "metadata": {
        "id": "rPQdARVJVCVj"
      },
      "source": [
        "Consultando um dado/valor de um elemento através de seu índice (unidimensional)"
      ]
    },
    {
      "cell_type": "code",
      "metadata": {
        "id": "zwVE9OoISoBV",
        "colab": {
          "base_uri": "https://localhost:8080/",
          "height": 54
        },
        "outputId": "2cd40a34-246a-4b92-e3f7-66e15111a627"
      },
      "source": [
        "data = np.arange(15)\n",
        "\n",
        "print(data)\n",
        "print(data[8])\n"
      ],
      "execution_count": null,
      "outputs": [
        {
          "output_type": "stream",
          "text": [
            "[ 0  1  2  3  4  5  6  7  8  9 10 11 12 13 14]\n",
            "8\n"
          ],
          "name": "stdout"
        }
      ]
    },
    {
      "cell_type": "code",
      "metadata": {
        "id": "uLT8jUrMSoFS",
        "colab": {
          "base_uri": "https://localhost:8080/",
          "height": 54
        },
        "outputId": "5b9799cf-04f3-424d-ce2a-75f045a12855"
      },
      "source": [
        "data\n",
        "\n",
        "print(data)\n",
        "print(data[-5])\n"
      ],
      "execution_count": null,
      "outputs": [
        {
          "output_type": "stream",
          "text": [
            "[ 0  1  2  3  4  5  6  7  8  9 10 11 12 13 14]\n",
            "10\n"
          ],
          "name": "stdout"
        }
      ]
    },
    {
      "cell_type": "markdown",
      "metadata": {
        "id": "ApggGT3HfeEN"
      },
      "source": [
        "Consultando um dado/valor de um elemento através de seu índice (multidimensional)"
      ]
    },
    {
      "cell_type": "code",
      "metadata": {
        "id": "O4ZGJbsJSoD2",
        "colab": {
          "base_uri": "https://localhost:8080/",
          "height": 90
        },
        "outputId": "ee19d88e-cf28-47ec-8e16-938b0824730a"
      },
      "source": [
        "data2 = np.random.randint(5, size = (3, 4))\n",
        "\n",
        "print(data2)\n",
        "print(data2[0, 2])\n",
        "# linha 0, coluna 2 (lembrando que o índice para coluna também começa em 0, 0-1-2-3)\n"
      ],
      "execution_count": null,
      "outputs": [
        {
          "output_type": "stream",
          "text": [
            "[[2 3 2 0]\n",
            " [0 3 0 1]\n",
            " [3 1 4 3]]\n",
            "2\n"
          ],
          "name": "stdout"
        }
      ]
    },
    {
      "cell_type": "markdown",
      "metadata": {
        "id": "xvfxNBOOfBFn"
      },
      "source": [
        "Consultando um intervalo de elementos"
      ]
    },
    {
      "cell_type": "code",
      "metadata": {
        "id": "3lS7SwV2fEX-",
        "colab": {
          "base_uri": "https://localhost:8080/",
          "height": 127
        },
        "outputId": "4c7fc87a-4f50-4d74-f8e5-0309a3bf9455"
      },
      "source": [
        "data\n",
        "\n",
        "print(data)\n",
        "\n",
        "print(data[:5])\n",
        "# apenas os 5 primeiros\n",
        "\n",
        "print(data[3:])\n",
        "# do terceiro elemento em diante (elemento, e não índice)\n",
        "\n",
        "print(data[4:8])\n",
        "# do quarto elemento até o oitavo (4º, 5º, 6º 7º e 8º elemento)\n",
        "\n",
        "print(data[::2])\n",
        "# de dois em dois elementos\n",
        "\n",
        "print(data[3::])\n",
        "# pula os 3 primeiros elementos e imprime o resto\n"
      ],
      "execution_count": null,
      "outputs": [
        {
          "output_type": "stream",
          "text": [
            "[ 0  1  2  3  4  5  6  7  8  9 10 11 12 13 14]\n",
            "[0 1 2 3 4]\n",
            "[ 3  4  5  6  7  8  9 10 11 12 13 14]\n",
            "[4 5 6 7]\n",
            "[ 0  2  4  6  8 10 12 14]\n",
            "[ 3  4  5  6  7  8  9 10 11 12 13 14]\n"
          ],
          "name": "stdout"
        }
      ]
    },
    {
      "cell_type": "markdown",
      "metadata": {
        "id": "PlY6jgQ2WPVo"
      },
      "source": [
        "Modificando dados/valores manualmente por meio de seu índice"
      ]
    },
    {
      "cell_type": "code",
      "metadata": {
        "id": "71m1KejRWOrI",
        "colab": {
          "base_uri": "https://localhost:8080/",
          "height": 127
        },
        "outputId": "0a753721-15ad-4a11-921d-91af93ef851d"
      },
      "source": [
        "data2\n",
        "\n",
        "print(data2)\n",
        "\n",
        "data2[0, 0] = 10\n",
        "# elemento situado na posição 0x0 do índice passará a ter o valor atribuído 10\n",
        "\n",
        "print(data2)\n"
      ],
      "execution_count": null,
      "outputs": [
        {
          "output_type": "stream",
          "text": [
            "[[2 3 2 0]\n",
            " [0 3 0 1]\n",
            " [3 1 4 3]]\n",
            "[[10  3  2  0]\n",
            " [ 0  3  0  1]\n",
            " [ 3  1  4  3]]\n"
          ],
          "name": "stdout"
        }
      ]
    },
    {
      "cell_type": "markdown",
      "metadata": {
        "id": "3q2yviXDW190"
      },
      "source": [
        "Inserindo números diferentes de INT, os mesmos serão convertidos para INT para que não haja erros"
      ]
    },
    {
      "cell_type": "code",
      "metadata": {
        "id": "eE1y_NC2WOuL",
        "colab": {
          "base_uri": "https://localhost:8080/",
          "height": 72
        },
        "outputId": "8235229e-de34-41d2-9755-e5b0e3631f69"
      },
      "source": [
        "data2\n",
        "\n",
        "data2[1, 1] = 6.82945\n",
        "\n",
        "print(data2)\n"
      ],
      "execution_count": null,
      "outputs": [
        {
          "output_type": "stream",
          "text": [
            "[[10  3  2  0]\n",
            " [ 0  6  0  1]\n",
            " [ 3  1  4  3]]\n"
          ],
          "name": "stdout"
        }
      ]
    },
    {
      "cell_type": "markdown",
      "metadata": {
        "id": "Cf_PnBG4ktuI"
      },
      "source": [
        "Definindo manualmente o tipo de dado em uma Array"
      ]
    },
    {
      "cell_type": "code",
      "metadata": {
        "id": "YW5RSYFCkxVg",
        "colab": {
          "base_uri": "https://localhost:8080/",
          "height": 54
        },
        "outputId": "660f9d15-7f7f-4df2-bd7a-04be767ae81f"
      },
      "source": [
        "data2 = np.array([8, -3, 5, 9], dtype = 'float')\n",
        "\n",
        "print(data2)\n",
        "print(type(data2[0]))\n"
      ],
      "execution_count": null,
      "outputs": [
        {
          "output_type": "stream",
          "text": [
            "[ 8. -3.  5.  9.]\n",
            "<class 'numpy.float64'>\n"
          ],
          "name": "stdout"
        }
      ]
    },
    {
      "cell_type": "markdown",
      "metadata": {
        "id": "CZ5sIi-m_NNu"
      },
      "source": [
        "Criando uma Array Numpy onde os intervalos dos números são igualmente distribuídos"
      ]
    },
    {
      "cell_type": "code",
      "metadata": {
        "id": "MV5FwRb9WOxd",
        "colab": {
          "base_uri": "https://localhost:8080/",
          "height": 54
        },
        "outputId": "30be24d7-644d-48ee-f466-f13bd836a261"
      },
      "source": [
        "data = np.linspace(0, 1, 7)\n",
        "# 7 números, gerados de 0 a 1, com intervalo igual entre cada número gerado\n",
        "\n",
        "print(data)\n"
      ],
      "execution_count": null,
      "outputs": [
        {
          "output_type": "stream",
          "text": [
            "[0.         0.16666667 0.33333333 0.5        0.66666667 0.83333333\n",
            " 1.        ]\n"
          ],
          "name": "stdout"
        }
      ]
    },
    {
      "cell_type": "markdown",
      "metadata": {
        "id": "e7uX9Efd_u04"
      },
      "source": [
        "Criando uma Array Numpy com formato definido manualmente"
      ]
    },
    {
      "cell_type": "code",
      "metadata": {
        "id": "-l8s_ISFWO1M",
        "colab": {
          "base_uri": "https://localhost:8080/",
          "height": 72
        },
        "outputId": "ab8d0332-e286-42ad-e0c5-95fedcd72528"
      },
      "source": [
        "data5 = np.arange(8)\n",
        "\n",
        "print(data5)\n",
        "\n",
        "data5 = data5.reshape(2, 4)\n",
        "# a multiplicação dessas dimensões deve ser o número de elementos. ex 2 x 4 = 8\n",
        "\n",
        "print(data5)\n"
      ],
      "execution_count": null,
      "outputs": [
        {
          "output_type": "stream",
          "text": [
            "[0 1 2 3 4 5 6 7]\n",
            "[[0 1 2 3]\n",
            " [4 5 6 7]]\n"
          ],
          "name": "stdout"
        }
      ]
    },
    {
      "cell_type": "markdown",
      "metadata": {
        "id": "SbYNu60ZC7bt"
      },
      "source": [
        "Criando uma Array Numpy com números aleatórios, de tamanho predefinido em variável"
      ]
    },
    {
      "cell_type": "code",
      "metadata": {
        "id": "Yr5BRXtKWO0D",
        "colab": {
          "base_uri": "https://localhost:8080/",
          "height": 35
        },
        "outputId": "00dffd9a-569a-48a2-8302-5dbbd5496ee9"
      },
      "source": [
        "tamanho = 10\n",
        "\n",
        "data6 = np.random.permutation(tamanho)\n",
        "\n",
        "print(data6)\n"
      ],
      "execution_count": null,
      "outputs": [
        {
          "output_type": "stream",
          "text": [
            "[1 8 7 4 5 6 2 3 0 9]\n"
          ],
          "name": "stdout"
        }
      ]
    },
    {
      "cell_type": "markdown",
      "metadata": {
        "id": "6RJZUgZNDP0I"
      },
      "source": [
        "Aplicando operador lógico sobre uma Array Numpy"
      ]
    },
    {
      "cell_type": "code",
      "metadata": {
        "id": "eP_3hevTNYER",
        "colab": {
          "base_uri": "https://localhost:8080/",
          "height": 54
        },
        "outputId": "0ccb360d-3ef8-4961-ddcb-fac64cc4eb9b"
      },
      "source": [
        "data7 = np.arange(10)\n",
        "\n",
        "print(data7)\n",
        "print(data7 > 3)\n"
      ],
      "execution_count": null,
      "outputs": [
        {
          "output_type": "stream",
          "text": [
            "[0 1 2 3 4 5 6 7 8 9]\n",
            "[False False False False  True  True  True  True  True  True]\n"
          ],
          "name": "stdout"
        }
      ]
    },
    {
      "cell_type": "code",
      "metadata": {
        "id": "6NSZ-Uomf1ya",
        "colab": {
          "base_uri": "https://localhost:8080/",
          "height": 54
        },
        "outputId": "9e8d2e6c-8fa0-4693-c583-35b8da95d00a"
      },
      "source": [
        "data7 = np.arange(10)\n",
        "\n",
        "print(data7)\n",
        "print(data7[4] > 5)\n"
      ],
      "execution_count": null,
      "outputs": [
        {
          "output_type": "stream",
          "text": [
            "[0 1 2 3 4 5 6 7 8 9]\n",
            "False\n"
          ],
          "name": "stdout"
        }
      ]
    },
    {
      "cell_type": "markdown",
      "metadata": {
        "id": "sZLPqoJEFakF"
      },
      "source": [
        "Aplicando operador aritmético sobre uma Array Numpy"
      ]
    },
    {
      "cell_type": "code",
      "metadata": {
        "id": "bhv-FE33DPLY",
        "colab": {
          "base_uri": "https://localhost:8080/",
          "height": 54
        },
        "outputId": "61351756-e753-4ecc-da74-0f4626c25c70"
      },
      "source": [
        "data8 = [1, 2, 3, 4, 5, 6, 7, 8]\n",
        "print(data8)\n",
        "\n",
        "\n",
        "data8 = np.array(data8)\n",
        "# após convertido para array o operador + sempre fará a soma\n",
        "\n",
        "print(data8 + 10)\n"
      ],
      "execution_count": null,
      "outputs": [
        {
          "output_type": "stream",
          "text": [
            "[1, 2, 3, 4, 5, 6, 7, 8]\n",
            "[11 12 13 14 15 16 17 18]\n"
          ],
          "name": "stdout"
        }
      ]
    },
    {
      "cell_type": "markdown",
      "metadata": {
        "id": "xRKPGKOajKKU"
      },
      "source": [
        "Criando uma matriz diagonal"
      ]
    },
    {
      "cell_type": "code",
      "metadata": {
        "id": "8953m3zvjNSL",
        "colab": {
          "base_uri": "https://localhost:8080/",
          "height": 164
        },
        "outputId": "7d29f2ea-0f79-4440-ad34-d2a90cb6165f"
      },
      "source": [
        "data9 = np.diag((1, 2, 3, 4, 5, 6, 7, 8))\n",
        "\n",
        "print(data9)\n"
      ],
      "execution_count": null,
      "outputs": [
        {
          "output_type": "stream",
          "text": [
            "[[1 0 0 0 0 0 0 0]\n",
            " [0 2 0 0 0 0 0 0]\n",
            " [0 0 3 0 0 0 0 0]\n",
            " [0 0 0 4 0 0 0 0]\n",
            " [0 0 0 0 5 0 0 0]\n",
            " [0 0 0 0 0 6 0 0]\n",
            " [0 0 0 0 0 0 7 0]\n",
            " [0 0 0 0 0 0 0 8]]\n"
          ],
          "name": "stdout"
        }
      ]
    },
    {
      "cell_type": "code",
      "metadata": {
        "id": "QZbKTZJyRc4c",
        "colab": {
          "base_uri": "https://localhost:8080/",
          "height": 90
        },
        "outputId": "7ec0563d-c0c2-401b-9e3a-0ff49d43c02c"
      },
      "source": [
        "# algo parecido pode ser feito com a função np.eye( )\n",
        "\n",
        "data9 = np.eye(4)\n",
        "\n",
        "print(data9)\n"
      ],
      "execution_count": null,
      "outputs": [
        {
          "output_type": "stream",
          "text": [
            "[[1. 0. 0. 0.]\n",
            " [0. 1. 0. 0.]\n",
            " [0. 0. 1. 0.]\n",
            " [0. 0. 0. 1.]]\n"
          ],
          "name": "stdout"
        }
      ]
    },
    {
      "cell_type": "markdown",
      "metadata": {
        "id": "zAaxgITtjy3p"
      },
      "source": [
        "Criando padrões duplicados"
      ]
    },
    {
      "cell_type": "code",
      "metadata": {
        "id": "2mTy7mgHj1wY",
        "colab": {
          "base_uri": "https://localhost:8080/",
          "height": 54
        },
        "outputId": "aa2cef04-176b-4176-b331-6e10d7b6a0ec"
      },
      "source": [
        "data10 = np.tile(np.array([[9, 4], [3, 7]]), 4)\n",
        "# 9, 4, elementos da primeira linha, 3, 7 da segunda, duplicados 4 vezes na mesma linha\n",
        "\n",
        "print(data10)\n"
      ],
      "execution_count": null,
      "outputs": [
        {
          "output_type": "stream",
          "text": [
            "[[9 4 9 4 9 4 9 4]\n",
            " [3 7 3 7 3 7 3 7]]\n"
          ],
          "name": "stdout"
        }
      ]
    },
    {
      "cell_type": "code",
      "metadata": {
        "id": "ceuYKED4DPP2",
        "colab": {
          "base_uri": "https://localhost:8080/",
          "height": 90
        },
        "outputId": "24e71a20-139a-49af-d69f-17c6c8a91375"
      },
      "source": [
        "data10 = np.tile(np.array([[9, 4], [3, 7]]), (2,2))\n",
        "# mesmo exemplo que o anterior, mas duplicados linha e coluna\n",
        "\n",
        "print(data10)\n"
      ],
      "execution_count": null,
      "outputs": [
        {
          "output_type": "stream",
          "text": [
            "[[9 4 9 4]\n",
            " [3 7 3 7]\n",
            " [9 4 9 4]\n",
            " [3 7 3 7]]\n"
          ],
          "name": "stdout"
        }
      ]
    },
    {
      "cell_type": "markdown",
      "metadata": {
        "id": "s7-BQCxXlLGq"
      },
      "source": [
        "Somando um valor a cada elemento da Array"
      ]
    },
    {
      "cell_type": "code",
      "metadata": {
        "id": "fKQ8yt-0lNtY",
        "colab": {
          "base_uri": "https://localhost:8080/",
          "height": 54
        },
        "outputId": "ba31b0f7-40e0-46c2-81b5-0209f8e67f04"
      },
      "source": [
        "data11 = np.arange(0, 15)\n",
        "\n",
        "print(data11)\n",
        "\n",
        "data11 = np.arange(0, 15) + 1\n",
        "\n",
        "print(data11)\n"
      ],
      "execution_count": null,
      "outputs": [
        {
          "output_type": "stream",
          "text": [
            "[ 0  1  2  3  4  5  6  7  8  9 10 11 12 13 14]\n",
            "[ 1  2  3  4  5  6  7  8  9 10 11 12 13 14 15]\n"
          ],
          "name": "stdout"
        }
      ]
    },
    {
      "cell_type": "code",
      "metadata": {
        "id": "J2fmZeyVDPU7",
        "colab": {
          "base_uri": "https://localhost:8080/",
          "height": 35
        },
        "outputId": "718b82c4-f418-485e-f6aa-52dc8a38ce03"
      },
      "source": [
        "data11 = np.arange(0, 30,3) + 3\n",
        "# somando 3 ao valor de cada elemento, de 3 em 3 elementos\n",
        "\n",
        "print(data11)\n"
      ],
      "execution_count": null,
      "outputs": [
        {
          "output_type": "stream",
          "text": [
            "[ 3  6  9 12 15 18 21 24 27 30]\n"
          ],
          "name": "stdout"
        }
      ]
    },
    {
      "cell_type": "markdown",
      "metadata": {
        "id": "I_CIkbnKmKkZ"
      },
      "source": [
        "Realizando soma de Arrays"
      ]
    },
    {
      "cell_type": "code",
      "metadata": {
        "id": "XdeaN5kADPTu",
        "colab": {
          "base_uri": "https://localhost:8080/",
          "height": 35
        },
        "outputId": "0f7c7f82-310f-47d3-e976-6c5fa798e5d2"
      },
      "source": [
        "d1 = np.array([ 3,  6,  9, 12, 15])\n",
        "d2 = np.array([ 1,  2,  3,  4,  5])\n",
        "\n",
        "d3 = d1 + d2\n",
        "\n",
        "print(d3)\n"
      ],
      "execution_count": null,
      "outputs": [
        {
          "output_type": "stream",
          "text": [
            "[ 4  8 12 16 20]\n"
          ],
          "name": "stdout"
        }
      ]
    },
    {
      "cell_type": "markdown",
      "metadata": {
        "id": "gj4lAYadmdIK"
      },
      "source": [
        "Subtração de Arrays"
      ]
    },
    {
      "cell_type": "code",
      "metadata": {
        "id": "0chUl7q9mJ2f",
        "colab": {
          "base_uri": "https://localhost:8080/",
          "height": 35
        },
        "outputId": "0de3baf4-6b0e-48d5-be74-cd11cd88c73b"
      },
      "source": [
        "d1 = np.array([ 3,  6,  9, 12, 15])\n",
        "d2 = np.array([ 1,  2,  3,  4,  5])\n",
        "\n",
        "d3 = d1 - d2\n",
        "\n",
        "print(d3)\n"
      ],
      "execution_count": null,
      "outputs": [
        {
          "output_type": "stream",
          "text": [
            "[ 2  4  6  8 10]\n"
          ],
          "name": "stdout"
        }
      ]
    },
    {
      "cell_type": "markdown",
      "metadata": {
        "id": "9C7sJBhSmjNK"
      },
      "source": [
        "Divisão de Arrays"
      ]
    },
    {
      "cell_type": "code",
      "metadata": {
        "id": "kXdy7jhzmJ6u",
        "colab": {
          "base_uri": "https://localhost:8080/",
          "height": 35
        },
        "outputId": "c25e739e-29d9-480c-8cf5-26cc6aaf32f1"
      },
      "source": [
        "d1 = np.array([ 3,  6,  9, 12, 15])\n",
        "d2 = np.array([ 1,  2,  3,  4,  5])\n",
        "\n",
        "d3 = d1 / d2\n",
        "\n",
        "print(d3)\n"
      ],
      "execution_count": null,
      "outputs": [
        {
          "output_type": "stream",
          "text": [
            "[3. 3. 3. 3. 3.]\n"
          ],
          "name": "stdout"
        }
      ]
    },
    {
      "cell_type": "markdown",
      "metadata": {
        "id": "1q3fTYfgmopI"
      },
      "source": [
        "Multiplicação de Arrays"
      ]
    },
    {
      "cell_type": "code",
      "metadata": {
        "id": "Xe-6vfb1mKCV",
        "colab": {
          "base_uri": "https://localhost:8080/",
          "height": 35
        },
        "outputId": "48ad69c0-39f1-41f2-98d8-2813f7250c46"
      },
      "source": [
        "d1 = np.array([ 3,  6,  9, 12, 15, 18, 21, 24, 27, 30])\n",
        "d2 = np.array([ 1,  2,  3,  4,  5,  6,  7,  8,  9, 10])\n",
        "\n",
        "d3 = d1 * d2\n",
        "\n",
        "print(d3)\n"
      ],
      "execution_count": null,
      "outputs": [
        {
          "output_type": "stream",
          "text": [
            "[  3  12  27  48  75 108 147 192 243 300]\n"
          ],
          "name": "stdout"
        }
      ]
    },
    {
      "cell_type": "markdown",
      "metadata": {
        "id": "JQdsy7a8muFv"
      },
      "source": [
        "Operações Lógicas com Arrays"
      ]
    },
    {
      "cell_type": "code",
      "metadata": {
        "id": "taZWF1u5mKAr",
        "colab": {
          "base_uri": "https://localhost:8080/",
          "height": 35
        },
        "outputId": "edc3c7ce-c90d-4080-f87f-2dd47a50d471"
      },
      "source": [
        "d1 = np.array([ 3,  6,  9, 12, 15, 18, 21])\n",
        "d2 = np.array([ 1,  2,  3,  4,  5, 20, 25])\n",
        "\n",
        "d3 = d2 > d1\n",
        "\n",
        "print(d3)\n"
      ],
      "execution_count": null,
      "outputs": [
        {
          "output_type": "stream",
          "text": [
            "[False False False False False  True  True]\n"
          ],
          "name": "stdout"
        }
      ]
    },
    {
      "cell_type": "markdown",
      "metadata": {
        "id": "-j5Y4-mXg2ZT"
      },
      "source": [
        "Matriz transposta  / Transformando linhas em colunas e vice versa de forma proporcional"
      ]
    },
    {
      "cell_type": "code",
      "metadata": {
        "id": "WCEQ7NG4XZqB",
        "colab": {
          "base_uri": "https://localhost:8080/",
          "height": 146
        },
        "outputId": "929a7488-a967-407d-85f2-e7eb11c3cdff"
      },
      "source": [
        "arr1 = np.array([[1, 2, 3], [4, 5, 6]])\n",
        "\n",
        "print(arr1)\n",
        "print(arr1.shape)\n",
        "\n",
        "arr1_transposta = arr1.transpose()\n",
        "\n",
        "print(arr1_transposta)\n",
        "print(arr1_transposta.shape)\n"
      ],
      "execution_count": null,
      "outputs": [
        {
          "output_type": "stream",
          "text": [
            "[[1 2 3]\n",
            " [4 5 6]]\n",
            "(2, 3)\n",
            "[[1 4]\n",
            " [2 5]\n",
            " [3 6]]\n",
            "(3, 2)\n"
          ],
          "name": "stdout"
        }
      ]
    },
    {
      "cell_type": "markdown",
      "metadata": {
        "id": "EWMMrluGXatN"
      },
      "source": [
        "Salvando uma Array no disco local"
      ]
    },
    {
      "cell_type": "code",
      "metadata": {
        "id": "jQyuewVrXZvi"
      },
      "source": [
        "data = np.array([ 3,  6,  9, 12, 15])\n",
        "\n",
        "np.save('minha_array', data)\n"
      ],
      "execution_count": null,
      "outputs": []
    },
    {
      "cell_type": "markdown",
      "metadata": {
        "id": "m6oECLmQXvDS"
      },
      "source": [
        "Carregando uma Array do disco local"
      ]
    },
    {
      "cell_type": "code",
      "metadata": {
        "id": "-Fd0RL0uXZoE",
        "colab": {
          "base_uri": "https://localhost:8080/",
          "height": 35
        },
        "outputId": "d3d17d83-0458-4ef6-f5b9-f4f9c249eba8"
      },
      "source": [
        "np.load('minha_array.npy')\n"
      ],
      "execution_count": null,
      "outputs": [
        {
          "output_type": "execute_result",
          "data": {
            "text/plain": [
              "array([ 3,  6,  9, 12, 15, 18, 21, 24, 27, 30])"
            ]
          },
          "metadata": {
            "tags": []
          },
          "execution_count": 45
        }
      ]
    },
    {
      "cell_type": "markdown",
      "metadata": {
        "id": "cjMOTQkX-yMi"
      },
      "source": [
        "## Vetores não ordenados"
      ]
    },
    {
      "cell_type": "code",
      "metadata": {
        "id": "w4teW5E9Jx4U"
      },
      "source": [
        "import numpy as np\n",
        "\n",
        "class Vetor:\n",
        "    def __init__(self, tamanho):\n",
        "        self.tamanho = tamanho\n",
        "        self.ultimo = -1\n",
        "        self.elementos = np.empty(self.tamanho, dtype = int)\n",
        "\n",
        "    def exibe_em_tela(self):\n",
        "        if self.ultimo == -1:\n",
        "            print('Vetor vazio!!!')\n",
        "        else:\n",
        "            for i in range(self.ultimo + 1):\n",
        "                print(i, self.elementos[i])\n",
        "    \n",
        "    def insere_elemento(self, elemento):\n",
        "        if self.ultimo == self.tamanho -1:\n",
        "            print('Capacidade máxima atingida')\n",
        "        else:\n",
        "            self.ultimo += 1\n",
        "            self.elementos[self.ultimo] = elemento\n",
        "    \n",
        "    def pesquisa_elemento(self, elemento):\n",
        "        for i in range(self.ultimo + 1):\n",
        "            if elemento == self.elementos[i]:\n",
        "                return i\n",
        "        return -1\n",
        "    \n",
        "    def exclui_elemento(self, elemento):\n",
        "        posicao = self.pesquisa_elemento(elemento)\n",
        "        if posicao == -1:\n",
        "            return -1\n",
        "        else:\n",
        "            for i in range(posicao, self.ultimo):\n",
        "                self.elementos[i] = self.elementos[i + 1]\n",
        "            self.ultimo -= 1\n"
      ],
      "execution_count": null,
      "outputs": []
    },
    {
      "cell_type": "code",
      "metadata": {
        "id": "Xsz3HIJmJy6y",
        "colab": {
          "base_uri": "https://localhost:8080/"
        },
        "outputId": "90311d0b-4da0-4767-c120-2f51343a19e2"
      },
      "source": [
        "base = Vetor(10)\n",
        "base.exibe_em_tela()\n",
        "# Retornará 'Vetor vazio' pois até esse momento não foram inseridos dados no vetor\n"
      ],
      "execution_count": null,
      "outputs": [
        {
          "output_type": "stream",
          "text": [
            "Vetor vazio!!!\n"
          ],
          "name": "stdout"
        }
      ]
    },
    {
      "cell_type": "code",
      "metadata": {
        "id": "sF5zKgouJy9v",
        "colab": {
          "base_uri": "https://localhost:8080/"
        },
        "outputId": "16b8925b-48bc-4f90-e403-1078755fa790"
      },
      "source": [
        "base.insere_elemento(9)\n",
        "base.insere_elemento(3)\n",
        "base.exibe_em_tela()\n",
        "# Retornará índice 0 9 e índice 1 3\n"
      ],
      "execution_count": null,
      "outputs": [
        {
          "output_type": "stream",
          "text": [
            "0 9\n",
            "1 3\n"
          ],
          "name": "stdout"
        }
      ]
    },
    {
      "cell_type": "code",
      "metadata": {
        "id": "TUVUWuTtJzAh",
        "colab": {
          "base_uri": "https://localhost:8080/"
        },
        "outputId": "295cd5be-c528-4982-cf8d-5b56a46ee990"
      },
      "source": [
        "print(base.pesquisa_elemento(9))\n",
        "# Retorna o número de índice onde está situado o elemento 9\n"
      ],
      "execution_count": null,
      "outputs": [
        {
          "output_type": "stream",
          "text": [
            "0\n"
          ],
          "name": "stdout"
        }
      ]
    },
    {
      "cell_type": "code",
      "metadata": {
        "id": "EqIH0Ea2JzC4",
        "colab": {
          "base_uri": "https://localhost:8080/"
        },
        "outputId": "ba74e2eb-4812-4043-fc00-661dfbfe7226"
      },
      "source": [
        "print(base.ultimo)\n",
        "# Retornará o último valor de índice, para implicitamente descobrirmos qual o tamanho do vetor\n"
      ],
      "execution_count": null,
      "outputs": [
        {
          "output_type": "stream",
          "text": [
            "1\n"
          ],
          "name": "stdout"
        }
      ]
    },
    {
      "cell_type": "code",
      "metadata": {
        "id": "N-8OK8b4JzF9",
        "colab": {
          "base_uri": "https://localhost:8080/"
        },
        "outputId": "e8e334bc-d48e-4ca7-cc29-e3e21676cbdd"
      },
      "source": [
        "base.insere_elemento(1)\n",
        "base.insere_elemento(4)\n",
        "base.insere_elemento(5)\n",
        "base.insere_elemento(12)\n",
        "base.insere_elemento(20)\n",
        "base.exibe_em_tela()\n"
      ],
      "execution_count": null,
      "outputs": [
        {
          "output_type": "stream",
          "text": [
            "0 9\n",
            "1 3\n",
            "2 1\n",
            "3 4\n",
            "4 5\n",
            "5 12\n",
            "6 20\n"
          ],
          "name": "stdout"
        }
      ]
    },
    {
      "cell_type": "code",
      "metadata": {
        "colab": {
          "base_uri": "https://localhost:8080/"
        },
        "id": "q89YqH3v0uXu",
        "outputId": "88f9be0f-81c9-4ddf-d0b8-2fcfeebc1383"
      },
      "source": [
        "base.exclui_elemento(12)\n",
        "# Exclui o elemento em questão, realocando seu número de índice para outro elemento\n",
        "base.exibe_em_tela()\n"
      ],
      "execution_count": null,
      "outputs": [
        {
          "output_type": "stream",
          "text": [
            "0 9\n",
            "1 3\n",
            "2 1\n",
            "3 4\n",
            "4 5\n",
            "5 20\n"
          ],
          "name": "stdout"
        }
      ]
    },
    {
      "cell_type": "markdown",
      "metadata": {
        "id": "xFvTS3hUYXoC"
      },
      "source": [
        "## Vetores Ordenados"
      ]
    },
    {
      "cell_type": "code",
      "metadata": {
        "id": "zOYuy334YZn7"
      },
      "source": [
        "import numpy as np\n",
        "\n",
        "class Vetor:\n",
        "\n",
        "    def __init__(self, tamanho):\n",
        "        self.tamanho = tamanho\n",
        "        self.ultimo = -1\n",
        "        self.elementos = np.empty(self.tamanho, dtype=int)\n",
        "\n",
        "    def exibe_em_tela(self):\n",
        "        if self.ultimo == -1:\n",
        "            print('Vetor atualmente vazio...')\n",
        "        else:\n",
        "            for i in range(self.ultimo + 1):\n",
        "                print(i, ' - ', self.elementos[i])\n",
        "\n",
        "    def insere_elemento(self, valor):\n",
        "        if self.ultimo == self.tamanho - 1:\n",
        "            print('Capacidade máxima atingida')\n",
        "            return\n",
        "\n",
        "        posicao = 0\n",
        "        for i in range(self.ultimo + 1):\n",
        "            posicao = i\n",
        "            if self.elementos[i] > valor:\n",
        "                break\n",
        "            if i == self.ultimo:\n",
        "                posicao = i + 1\n",
        "\n",
        "        x = self.ultimo\n",
        "        while x >= posicao:\n",
        "            self.elementos[x + 1] = self.elementos[x]\n",
        "            x -= 1\n",
        "\n",
        "        self.elementos[posicao] = valor\n",
        "        self.ultimo += 1\n",
        "\n",
        "    def pesquisa_linear(self, valor):\n",
        "        for i in range(self.ultimo + 1):\n",
        "            if self.elementos[i] > valor:\n",
        "                return -1\n",
        "            if self.elementos[i] == valor:\n",
        "                return i\n",
        "            if i == self.ultimo:\n",
        "                return -1\n",
        "\n",
        "    def pesquisa_binaria(self, valor):\n",
        "        limite_inferior = 0\n",
        "        limite_superior = self.ultimo\n",
        "\n",
        "        while True:\n",
        "            posicao_atual = int((limite_inferior + limite_superior) / 2)\n",
        "            if self.elementos[posicao_atual] == valor:\n",
        "                return posicao_atual\n",
        "            elif limite_inferior > limite_superior:\n",
        "                return -1\n",
        "            else:\n",
        "                if self.elementos[posicao_atual] < valor:\n",
        "                    limite_inferior = posicao_atual + 1\n",
        "                else:\n",
        "                    limite_superior = posicao_atual - 1\n",
        "\n",
        "    def pesquisa_elemento(self, elemento):\n",
        "        for i in range(self.ultimo + 1):\n",
        "            if elemento == self.elementos[i]:\n",
        "                return i\n",
        "        return -1\n",
        "\n",
        "    def exclui_elemento(self, valor):\n",
        "        posicao = self.pesquisa_elemento(valor)\n",
        "        if posicao == -1:\n",
        "            return -1\n",
        "        else:\n",
        "            for i in range(posicao, self.ultimo):\n",
        "                self.elementos[i] = self.elementos[i + 1]\n",
        "\n",
        "            self.ultimo -= 1\n"
      ],
      "execution_count": null,
      "outputs": []
    },
    {
      "cell_type": "code",
      "metadata": {
        "colab": {
          "base_uri": "https://localhost:8080/"
        },
        "id": "cAhzuZwPYiAW",
        "outputId": "46179d59-a077-4e32-b78f-a5386e6ef0fa"
      },
      "source": [
        "base = Vetor(10)\n",
        "base.exibe_em_tela()\n",
        "# Retornará 'Vetor atualmente vazio...' pois até esse momento não foram inseridos dados no vetor\n"
      ],
      "execution_count": null,
      "outputs": [
        {
          "output_type": "stream",
          "text": [
            "Vetor atualmente vazio...\n"
          ],
          "name": "stdout"
        }
      ]
    },
    {
      "cell_type": "code",
      "metadata": {
        "colab": {
          "base_uri": "https://localhost:8080/"
        },
        "id": "L9eydlaXYiAd",
        "outputId": "aa15648c-6cd0-4e77-b74d-460ef9dbff75"
      },
      "source": [
        "# Nesse caso, por se tratar de um vetor ordenado, os elementos serão adicionados\n",
        "# de modo que ficarão classificados por padrão em ordem crescente, sempre que um\n",
        "# novo elemento for inserido, respeitará essa ordem crescente e ocupará sua devida\n",
        "# posição\n",
        "\n",
        "base.insere_elemento(1)\n",
        "base.insere_elemento(44)\n",
        "base.insere_elemento(5)\n",
        "base.insere_elemento(12)\n",
        "base.insere_elemento(20)\n",
        "base.insere_elemento(21)\n",
        "base.exibe_em_tela()\n"
      ],
      "execution_count": null,
      "outputs": [
        {
          "output_type": "stream",
          "text": [
            "0  -  1\n",
            "1  -  5\n",
            "2  -  12\n",
            "3  -  20\n",
            "4  -  21\n",
            "5  -  44\n"
          ],
          "name": "stdout"
        }
      ]
    },
    {
      "cell_type": "code",
      "metadata": {
        "colab": {
          "base_uri": "https://localhost:8080/"
        },
        "id": "rBE4k7m1YiAc",
        "outputId": "bf5bea84-8a89-4cce-8e0a-e6a3f9bbdeef"
      },
      "source": [
        "print(base.ultimo)\n",
        "# Retornará o último valor de índice, para implicitamente descobrirmos qual o tamanho do vetor\n"
      ],
      "execution_count": null,
      "outputs": [
        {
          "output_type": "stream",
          "text": [
            "5\n"
          ],
          "name": "stdout"
        }
      ]
    },
    {
      "cell_type": "code",
      "metadata": {
        "colab": {
          "base_uri": "https://localhost:8080/"
        },
        "id": "4UZeqTYuhqOU",
        "outputId": "be01ad55-f537-4476-88a1-647f3bb7f801"
      },
      "source": [
        "base.pesquisa_elemento(20)\n",
        "base.pesquisa_binaria(20)\n",
        "base.pesquisa_linear(20)\n",
        "\n",
        "# Retornará -1 quando um elemento não estiver presente no vetor\n"
      ],
      "execution_count": null,
      "outputs": [
        {
          "output_type": "execute_result",
          "data": {
            "text/plain": [
              "2"
            ]
          },
          "metadata": {
            "tags": []
          },
          "execution_count": 19
        }
      ]
    },
    {
      "cell_type": "code",
      "metadata": {
        "colab": {
          "base_uri": "https://localhost:8080/"
        },
        "id": "TRgls9V3YiAf",
        "outputId": "7888ac7e-1ccb-44e3-ea41-6665e665ec0a"
      },
      "source": [
        "base.exclui_elemento(12)\n",
        "# Exclui o elemento em questão, realocando seu número de índice para outro elemento\n",
        "base.exibe_em_tela()\n"
      ],
      "execution_count": null,
      "outputs": [
        {
          "output_type": "stream",
          "text": [
            "0  -  1\n",
            "1  -  5\n",
            "2  -  20\n",
            "3  -  21\n",
            "4  -  44\n"
          ],
          "name": "stdout"
        }
      ]
    }
  ]
}